{
  "nbformat": 4,
  "nbformat_minor": 0,
  "metadata": {
    "colab": {
      "name": "(원본) 2020-04-18 ML기초",
      "provenance": [],
      "collapsed_sections": [
        "aFbtD4uKrv3W",
        "sNmoiOKAUTQy",
        "Op92KnINZHHl",
        "h0khMcrtaHwH",
        "TeHCabICQgtA",
        "konh6so3QisB",
        "N8Gae7f3VB5Y",
        "OEBuuhlkwIMu",
        "E-zlueslZ7fe",
        "xKvXhJJYZ7nq",
        "DSRYORPDZ7uv",
        "P2Hj6aBncgJk",
        "r_S9Z4by3seb",
        "lBV7Nn9ZXaMo",
        "XtJXnJNKXV30",
        "uU_ReU8QXWEo",
        "HDZoiHjyXuTu",
        "ygQpFuojpqRe",
        "bxyf2bX3aaep",
        "vEw5OQDyXvzl",
        "LfDkPMhDhuyE",
        "-jJm24oFbDyo",
        "bM_DC19NbFQ9",
        "QO4CTWK6bFWC",
        "Iywps9zRbGlz",
        "XdTwmwdvbGua",
        "RHJVdAb03sh_",
        "kkchB18abGyc",
        "uHVla3OfbG2m",
        "f9i6TESYbG6e",
        "jiAATuLcbG-b",
        "61q0ZkG2bHJx",
        "b8NsWiCbgnMs",
        "5ynxIB0azGk2",
        "6p7t4qscbHNl",
        "i5tMtzvTKJhu",
        "lL1W4FCFbND6",
        "iWRKCTwXbNHk",
        "5U0ZrMfpbNLo",
        "47ggGGOObNPQ",
        "dXxqASE8bNTj",
        "JJRoOTPTMGTp",
        "8ghfBIcdbNXn",
        "fVJukgb2bNbQ",
        "dYSuxKNWbNfE",
        "zEzSnmlTbNjN",
        "aBQ_pbhmbTXV",
        "XjF5p6yLdZrA"
      ]
    },
    "kernelspec": {
      "name": "python3",
      "display_name": "Python 3"
    },
    "accelerator": "GPU"
  },
  "cells": [
    {
      "cell_type": "markdown",
      "metadata": {
        "id": "ENYso35hnbpA",
        "colab_type": "text"
      },
      "source": [
        "---\n",
        "# ┗(•̀へ •́ )ﾉ Hyun's Machine Learning \n",
        "---\n",
        "자 Machine Learning을 공부해봅시다 (´∇｀)  \n",
        "## Authored by. Hyun\n",
        "![미니언즈!](https://post-phinf.pstatic.net/MjAxNzA3MTBfMjIg/MDAxNDk5NjcxOTY1NDQw.Kz07JXiZg6AT6Y4PAZY7ubUNAr7rbDinLwFGuS0OOxcg.WVhpo8yfybUh0qImMGNAo1ucSUPuNOvQyzlO_vKlAlkg.JPEG/%EC%98%81%EC%A7%84%EC%9C%845.jpg?type=w1200)\n",
        "각종 인강, 책, 사이트를 참조하여 한 곳에 모았습니다!"
      ]
    },
    {
      "cell_type": "markdown",
      "metadata": {
        "id": "aFbtD4uKrv3W",
        "colab_type": "text"
      },
      "source": [
        "# ┗(•̀へ •́  )ﾉ **이것만 돌리면 다 돌아간다~~~**"
      ]
    },
    {
      "cell_type": "code",
      "metadata": {
        "id": "gRO8gtPDrySn",
        "colab_type": "code",
        "colab": {}
      },
      "source": [
        "# # 기본\n",
        "# import numpy as np\n",
        "# from numpy.linalg import inv\n",
        "# from numpy.linalg import solve\n",
        "# import random\n",
        "\n",
        "# import pandas as pd\n",
        "# from pandas import Series, DataFrame\n",
        "# import pandas_profiling\n",
        "# import openpyxl\n",
        "\n",
        "# import matplotlib.pyplot as plt\n",
        "# import urllib\n",
        "# import matplotlib.dates as mdates\n",
        "# from matplotlib.dates import bytespdate2num\n",
        "# import matplotlib.ticker as ticker\n",
        "# from matplotlib import font_manager, rc\n",
        "# from matplotlib import style\n",
        "# import seaborn as sns\n",
        "\n",
        "# import time\n",
        "\n",
        "# import itertools\n",
        "# import re\n",
        "# import warnings\n",
        "# warnings.filterwarnings(\"ignore\")\n",
        "\n",
        "# # 시계열 데이터 처리\n",
        "# import calendar\n",
        "# import dateutil\n",
        "# from dateutil.parser import parse\n",
        "# import datetime\n",
        "\n",
        "# # Network 분석\n",
        "# import networkx as nx\n",
        "\n",
        "# # 지도시각화\n",
        "# import folium\n",
        "# from folium import plugins\n",
        "# import html\n",
        "# import json\n",
        "# import geopy\n",
        "# from geopy.geocoders import Nominatim\n",
        "# import os\n",
        "# import requests\n",
        "# import ipywidgets\n",
        "# from IPython.display import Image\n",
        "# from ipywidgets import interact\n",
        "\n",
        "# # Clustering\n",
        "# from sklearn.cluster import KMeans\n",
        "# from scipy.cluster.hierarchy import linkage, dendrogram\n",
        "\n",
        "# # Factor analysis\n",
        "# from factor_analyzer import FactorAnalyzer\n",
        "\n",
        "# # Machine learning 용도\n",
        "# from sklearn.preprocessing import StandardScaler, MinMaxScaler\n",
        "# from sklearn.linear_model import LinearRegression\n",
        "# from sklearn.model_selection import train_test_split\n",
        "# from sklearn.metrics import r2_score\n",
        "#from sklearn.metrics import classification_report\n",
        "# from sklearn.model_selection import PredefinedSplit\n",
        "# from sklearn.model_selection import GridSearchCV, ParameterGrid\n",
        "# from sklearn.metrics import (roc_curve, auc, accuracy_score, roc_auc_score)\n",
        "# from sklearn.cluster import KMeans\n",
        "# from sklearn.decomposition import PCA\n",
        "# from sklearn.metrics import silhouette_samples, silhouette_score\n",
        "# from sklearn.preprocessing import OneHotEncoder,LabelEncoder\n",
        "# from sklearn.preprocessing import StandardScaler\n",
        "# from sklearn.preprocessing import MinMaxScaler\n",
        "# from sklearn.preprocessing import RobustScaler\n",
        "# from sklearn.datasets import make_blobs\n",
        "# import scipy.cluster.hierarchy as shc\n",
        "# from sklearn.cluster import AgglomerativeClustering\n",
        "# from xgboost import XGBRegressor\n",
        "# from catboost import CatBoostRegressor\n",
        "# from sklearn.ensemble import AdaBoostRegressor, GradientBoostingRegressor\n",
        "# from lightgbm import LGBMClassifier, LGBMRegressor\n",
        "# import lightgbm as lgb\n",
        "# from sklearn.ensemble import RandomForestClassifier\n",
        "# from sklearn import metrics\n",
        "#from sklearn.base import clone\n",
        "\n",
        "# # Deep learning 용도\n",
        "# import torch\n",
        "# import torchvision.datasets as dsets\n",
        "# import torchvision.transforms as transforms\n",
        "# import random\n",
        "# import torch\n",
        "# import torch.nn as nn\n",
        "# import torch.nn.functional as F\n",
        "# import torch.optim as optim\n",
        "\n",
        "# # Wordcloud\n",
        "# import konlpy\n",
        "# from konlpy.tag import Okt\n",
        "# import collections\n",
        "# from collections import Counter\n",
        "# from wordcloud import WordCloud, STOPWORDS as stopwords\n",
        "# from PIL import Image, ImageFilter\n",
        "# from wordcloud import ImageColorGenerator\n",
        "# import pickle\n",
        "\n",
        "# # 한글 사용하기\n",
        "# import matplotlib.font_manager as fm\n",
        "# from matplotlib import rc\n",
        "# font_name = fm.FontProperties(fname=\"c:/Windows/Fonts/malgun.ttf\").get_name()\n",
        "# rc('font', family=font_name)\n",
        "\n",
        "\n",
        "# # 크롤링\n",
        "#  from selenium import webdriver\n",
        "# import requests\n",
        "# from bs4 import BeautifulSoup\n",
        "\n",
        "# # 기타\n",
        "# from urllib.request import urlopen\n",
        "# from tqdm import tqdm\n",
        "# import time\n",
        "# from zeep import Client\n",
        "# from collections import namedtuple\n",
        "# import sqlite3\n",
        "\n",
        "# # 한 번에 matplotlib 그림 띄우기\n",
        "# %matplotlib inline    \n",
        "# %config InlineBackend.figure_format = 'retina'  #%matplotlib 뒤에 써주면 그래프를 더 높은 해상도로 보여줌\n",
        "\n",
        "# # 설정 관련\n",
        "# pd.set_option('display.max_columns', 200)\n",
        "# pd.set_option('display.max_rows', 200)"
      ],
      "execution_count": 0,
      "outputs": []
    },
    {
      "cell_type": "markdown",
      "metadata": {
        "id": "sNmoiOKAUTQy",
        "colab_type": "text"
      },
      "source": [
        "# 목차"
      ]
    },
    {
      "cell_type": "markdown",
      "metadata": {
        "id": "JPb1VzLMXSgQ",
        "colab_type": "text"
      },
      "source": [
        "## 1. 머신러닝이란?  \n",
        " - ### 1.1 머신러닝 관련 개념정리  \n",
        " - ### 1.2 머신러닝 관련 용어모음\n",
        "<br>\n",
        " \n",
        "## 2. 머신러닝 종류  \n",
        "<br>\n",
        "\n",
        "## 3. 머신러닝 프로젝트의 프로세스  \n",
        " - #### 3.1 Problem을 정의한다  \n",
        " - #### 3.2 데이터 구하기 (크롤링)  \n",
        " - #### 3.3 데이터로부터 insight를 얻기 위해 탐색, 시각화 (EDA)  \n",
        " - #### 3.4 머신러닝 알고리즘을 위해 데이터를 준비 (FE)  \n",
        " - ####  3.5 모델을 선택하고 훈련시킴  \n",
        " - #### 3.6 모델을 상세하게 조정  \n",
        " - #### 3.7 시스템을 론칭하고 모니터링하고 유지 보수함  \n",
        "<br>\n",
        "\n",
        "## 4. 머신러닝 관련 메소드 모음\n",
        "<br>\n",
        "\n",
        "## 5. 과제"
      ]
    },
    {
      "cell_type": "markdown",
      "metadata": {
        "id": "Op92KnINZHHl",
        "colab_type": "text"
      },
      "source": [
        "# 1. Machine Learning이란?"
      ]
    },
    {
      "cell_type": "markdown",
      "metadata": {
        "id": "NpmsSftm2QQq",
        "colab_type": "text"
      },
      "source": [
        "![](https://lh3.googleusercontent.com/HK5QOxzeXCF0CMWSTae2OkxXmxETt0lNlyTYrYhVTiNrGxFr33lLgCnjfGiSSQgVVmJhjlkx4gM8eo71BBV6HW_IAo1b-kzqJL4ZLcqeiUhXIYin0vjeTjxrJOQWRmNSve6TX-er2RQ)"
      ]
    },
    {
      "cell_type": "markdown",
      "metadata": {
        "id": "E2wWk6km_CWp",
        "colab_type": "text"
      },
      "source": [
        "## 도대체 머신러닝이 무엇이냐?\n",
        "- 머신러닝은 간단하게 말해서 데이터로부터 학습할 수 있는 시스템을 만드는 것\n",
        "- 학습이란? 어떤 작업에서 주어진 성능 지표가 더 나아지는 것을 의미함!\n",
        "\n",
        "> 간단하게\n",
        "- 기존 데이터로 기계가 학습!\n"
      ]
    },
    {
      "cell_type": "markdown",
      "metadata": {
        "id": "h0khMcrtaHwH",
        "colab_type": "text"
      },
      "source": [
        "## 1.1 Machine Learning 관련 개념정리"
      ]
    },
    {
      "cell_type": "markdown",
      "metadata": {
        "id": "TeHCabICQgtA",
        "colab_type": "text"
      },
      "source": [
        "### Bias와 Variance"
      ]
    },
    {
      "cell_type": "markdown",
      "metadata": {
        "id": "Pp5L3Mh63so4",
        "colab_type": "text"
      },
      "source": [
        "\n",
        "\n",
        "![bias](https://img1.daumcdn.net/thumb/R1280x0/?scode=mtistory2&fname=http%3A%2F%2Fcfile9.uf.tistory.com%2Fimage%2F99CDCC33599AC28F075E3C)\n",
        "\n",
        "> Bias란?\n",
        " - Bias는 실제 값에서 멀어진 척도 \n",
        "\n",
        "> Variance란?\n",
        " - Variance는 예측된 값들이 서로 얼마나 멀리 떨어져 있는지에 대한 척도\n",
        "\n",
        "> Machine Learning Model의 목표\n",
        " - 왼쪽 위의 그림처럼 Bias도 낮고, Variance도 낮게, 즉 모두 정확하게 예측하는 것!"
      ]
    },
    {
      "cell_type": "markdown",
      "metadata": {
        "id": "konh6so3QisB",
        "colab_type": "text"
      },
      "source": [
        "### Cost function, Loss function\n"
      ]
    },
    {
      "cell_type": "markdown",
      "metadata": {
        "id": "_My2nQow3slr",
        "colab_type": "text"
      },
      "source": [
        "> Loss function\n",
        "- Loss function은 data point에서의 오차\n",
        "- Single data set에서의 오차를 구하는 것\n",
        "순간순간의 loss를 판단할 땐 loss function  \n",
        "  학습이 완료된 후에는 cost function!\n",
        "\n",
        "\n",
        "> Cost function\n",
        "- Cost function은 loss function의 합이다. \n",
        "- 즉 entire data set에서 loss funciton을 계산한 합이다.\n",
        "- 순간순간의 loss를 판단할 땐 loss function, 학습이 완료된 후에는 cost function!\n"
      ]
    },
    {
      "cell_type": "markdown",
      "metadata": {
        "id": "N8Gae7f3VB5Y",
        "colab_type": "text"
      },
      "source": [
        "### Overfitting, Underfitting"
      ]
    },
    {
      "cell_type": "markdown",
      "metadata": {
        "id": "cVAOq1gD3pv2",
        "colab_type": "text"
      },
      "source": [
        "![datasets](https://t1.daumcdn.net/cfile/tistory/9951E5445AAE1BE025)\n",
        "<br>\n",
        "\n",
        "![123123](https://mblogthumb-phinf.pstatic.net/MjAxODA3MzBfMjMy/MDAxNTMyODkwNjUxMjY4.H_ocFIRFaG8MWrBsv8BWrTCaAMGLMKZZUh_Rd1krRLog.HAZRdDtrQMvVGKiEWfGls8bm0EhTyRKf7XzoSY1Cibsg.JPEG.qbxlvnf11/maxresdefault.jpg?type=w800)\n",
        "\n",
        "> **과대적합(Overfitting)**이란?\n",
        " - 모델이 Train Dataset에 너무 잘 맞아서 일반성이 떨어지게 되는 문제\n",
        " - 즉 Train Dataset을 너무 과하게 학습해 학습되지 않은 데이터가 들어오면 분류하지 못하게 되는 것\n",
        " - 위 그림의 오른쪽 그림들이 과대적합의 예시\n",
        " - 보시다시피 Train Set을 거의 다 거치거나 분류해내며 굉장히 높은 성능을 보여주고 있지만, 새로운 변수에 대응하기 어려움\n",
        " - 그림의 가운데 모델이 적합한 모델이라고 할 수 있음!\n",
        "\n",
        "> **과소적합(Underfitting)**이란?\n",
        " - Overfitting과 반대 개념\n",
        " - 모델이 너무 단순해서 데이터의 내재된 구조를 학습하지 못하는 것\n",
        " - 위 그림의 왼쪽 그림이 underfitting.\n",
        "<br>"
      ]
    },
    {
      "cell_type": "markdown",
      "metadata": {
        "id": "mMvaT_ZRiXGA",
        "colab_type": "text"
      },
      "source": [
        "\n",
        "\n",
        "> Machine Learning에서 **Overfitting을 방지하는 방법**\n",
        " - 더 많은 데이터로 학습하기\n",
        " - Parameter가 적은 모델을 선택\n",
        " - Feature 개수 줄이기\n",
        " - 정규화(Regularization) 시키기 (e.g. L1, L2)  \n",
        "   ```1.2 Machine Learning 관련 용어모음``` 확인\n",
        " - Early stopping: 어느 정도 loss가 줄어들지 않으면 학습 멈추기"
      ]
    },
    {
      "cell_type": "markdown",
      "metadata": {
        "id": "Ji66dr3tiqQj",
        "colab_type": "text"
      },
      "source": [
        "> Bias, Variance and fitting\n",
        "1. Overfitting 모델\n",
        " - High Variace 모델(오른쪽 위)\n",
        " - Train Data의 지엽적인 특성까지 반영되어 학습된 것은 잘 예측하지만, 학습되지 않은 데이터에 대해서는 예측력이 떨어지게 됨\n",
        "2. Underfitting 모델\n",
        " - High Bias 모델(왼쪽 아래)\n",
        " - 너무 적은 특성만을 반영하여, 예측의 범위가 좁고 정확도가 떨어지게 됨\n",
        "\n",
        "- 다시 말하면, Bias 에러가 높아지는 것은 많은 데이터를 고려하지 않아(=모델이 너무 단순해) 정확한 예측을 하지 못하는 경우를 말하고, Variance(분산) 에러는 노이즈까지 전부 학습해(=모델이 너무 복잡해) 약간의 input에도 예측 Y 값이 크게 흔들리는 것을 말함. \n",
        "- 이 두가지 에러가 **Trade-off** 관계에 있어서 이 둘을 모두 잡는 것은 불가능 한 딜레마가 생김\n",
        " ![graph](https://img1.daumcdn.net/thumb/R1280x0/?scode=mtistory2&fname=http%3A%2F%2Fcfile9.uf.tistory.com%2Fimage%2F996DB433599AC34225B9BD)\n",
        "- Total Error가 최소인 지점을 찾기 위한 가장 효과적인 방법은 **Validation Set을 만드는 것**이다.  \n",
        "(밑에서 Validation Set 부가설명)"
      ]
    },
    {
      "cell_type": "markdown",
      "metadata": {
        "id": "OEBuuhlkwIMu",
        "colab_type": "text"
      },
      "source": [
        "## 1.2 Machine Learning 관련 용어모음"
      ]
    },
    {
      "cell_type": "markdown",
      "metadata": {
        "id": "y-agd97XdIq4",
        "colab_type": "text"
      },
      "source": [
        "> ### Accuracy (정확도)\n",
        "- 정확도(accuracy)란 전체 샘플 중 맞게 예측한 샘플 수의 비율\n",
        "- 높을수록 좋은 모형이고 일반적으로 학습에서 최적화 목적함수로 사용됨!!\n",
        "- 정확도(Accuracy)의 가장 큰 문제점은 **클래스의 분포가 같을 때만 이용 가능하다는 점**\n",
        "- 이러한 **단점을 보완**하는 지표가 정밀도(Precision)와 재현율(Recall), ROC 곡선과 AUC입니다.\n",
        "- $$accuracy=\\frac{TP+TN}{TP+TN+FP+FN}$$<br>\n",
        "``` python\n",
        "from sklearn.metrics import accuracy_score\n",
        "y_true = [0, 0, 0, 1, 1, 1, 1, 1, 1, 1]\n",
        "y_pred = [0, 0, 1, 0, 0, 1, 1, 1, 1, 1]\n",
        "accuracy_score(y_true, y_pred)\n",
        "```\n",
        "\n",
        "> ### Attribute (속성)\n",
        "- 데이터 타입을 의미\n",
        "- Feature(특성)은 attribute + 값. 허나 보통 많은 사람이 feature와 attribute를 구분하지 않고 사용\n",
        "\n",
        "> ### AUC\n",
        "- AUC란 ROC 곡선 아래 부분의 면적이다. 1에 가까울수록 성능이 좋음!\n",
        "\n",
        "> ### Batch Learning <-> Online learning\n",
        "- 배치 학습!\n",
        "- 가용한 데이터를 모두 사용해 훈련시켜야 함\n",
        "- 시간과 자원을 많이 소모\n",
        "- 보통 오프라인에서 수행\n",
        "- 시스템이 훈련되고 적용되면 더 이상의 학습없이 실행된다.\n",
        "\n",
        "> ### Batch size\n",
        "- Batch size: data를 나누는 것\n",
        "\n",
        "> ### Bagging\n",
        "- Bagging은 샘플을 여러 번 뽑아 각 모델을 학습시켜 결과를 집계(Aggregating) 하는 방법이다.\n",
        "\n",
        "> ### Bias\n",
        " - Bias는 실제 값에서 멀어진 척도 \n",
        "\n",
        "> ### Bootstrapping\n",
        " - 통계학에서 가설을 test하거나 metric을 계산하지 전에 '중복을 허용한' random sampling을 적용하는 방법\n",
        " - Machine learning에서 bootstrapping이란 random sampling을 통해 train data를 늘리는 방법이다!\n",
        " - Overfitting을 줄이는 데 도움이 된다.\n",
        "\n",
        "> ### Cross validation\n",
        "- Cross validation은 validation set을 뗄 만큼 data가 크지 않을 때 사용\n",
        "- Training Set을 여러 Subset으로 나누고 각 모델을 이 Subset의 조합으로 훈련시키고 나머지 부분으로 검증하는 방법이다.\n",
        "\n",
        "> ### Cost function\n",
        "- Cost function은 loss function의 합이다. \n",
        "- 모델이 얼마나 나쁜지 측정하는 함수 <-> 효용함수\n",
        "- 즉 entire data set에서 loss funciton을 계산한 합이다.\n",
        "- 순간순간의 loss를 판단할 땐 loss function, 학습이 완료된 후에는 cost function!\n",
        "- A loss function is a part of a cost function which is a type of an objective function!!!\n",
        "\n",
        "> ### Entropy\n",
        "- 불확실성에 대한 척도.\n",
        "- Entropy 함수  \n",
        "  $H_p(X) = \\mathbb{E}\\big[I(X)\\big] = \\mathbb{E} \\big[ \\log (\\frac{1}{p(X)}) \\big] = -\\sum_{i=1}^{n} p(x_i)\\log(p(x_i))$  \n",
        "  C는 범주의 갯수, q는 사건의 확률질량함수(probability mass function)\n",
        "- 예측이 어려울수록 정보의 양은 더 많아지고 엔트로피는 커진다.\n",
        "- 확률적으로 발생하는 사건에 대한 **정보량의 평균**. 놀람의 정도를 나타낸다고 볼 수 있다.\n",
        "\n",
        "> ### Estimator (추정기)\n",
        "- dataset을 기반으로 일련의 모델 parameter를 추정하는 객체\n",
        "- 추정은 fit( ) 메서드에 의해 수행되고 하나의 매개변수로 하나의 dataset만 전달\n",
        "\n",
        "> ### Epoch\n",
        "- one epoch: 모든 training example을 도는 것!\n",
        "\n",
        "> ### Feature\n",
        "- attribute(속성)와 값이 합쳐진 형태\n",
        "- e.g 주행거리 = 15,000\n",
        "\n",
        "> ### Gini Index\n",
        "- $G.I(A)=\\sum _{ i=1 }^{ d }{ { \\left( { R }_{ i }\\left( 1-\\sum _{ k=1 }^{ m }{ { p }_{ ik }^{ 2 } }  \\right)  \\right)  } }$\n",
        "- 정보의 순도를 측정할 때 사용하는 지표 중 하나\n",
        "\n",
        "> ### Gradient\n",
        "- Parameter들의 편미분계수, 기울기\n",
        "\n",
        "> ### Hold-out Validation\n",
        "- Validation set을 만드는 방법 중 하나\n",
        "- 데이터를 무작위로 train set과 validation set, test set으로 구분한 뒤, train set과 validation set을 이용해 분석 모형을 구축하고, test set을 이용하여 분석 모형의 성능을 평가하는 방법 \n",
        "- step.1\n",
        " - Original Set을 무작위로 train set과 validation set, test set으로 구분!\n",
        "- step.2\n",
        "  - hyperparameter를 다르게 해 여러가지 세팅을 만들어본 뒤, 학습 알고리즘을 사용해 Train set에 모델을 학습시키뮤\n",
        "- step.3\n",
        "  - Validation Set로 모델의 성능을 평가해 가장 좋은 성능의 hyperparameter 세팅을 선택함\n",
        "- step.4\n",
        "  - Train Set은 보통 클수록 좋음. 그러므로 모델 선택 후에 Train Set와 Validation Set을 합쳐 더 큰 데이터셋으로 step.3에서 선택한 최선의 hyperparameter 세팅을 사용한 모델을 학습하기!\n",
        "- step.5 \n",
        "  - 이제 Test Set을 사용해 모델의 성능을 평가~\n",
        "- Cross Validation과의 차이점: Hold-out Validation에서 Test Set의 경우 모형에는 영향을 주지 않고, 모델의 성능 측정 만을 위해 사용된다는 점! \n",
        "\n",
        "> ### Hyperparameter\n",
        "- 학습의 대상이 아니라 학습 이전에 정해놓은 변수, 학습 알고리즘의 parameter\n",
        "- Parameter는 학습의 대상이 되는 변수\n",
        "\n",
        "> ### Iteration\n",
        "- batch를 몇 번 학습에 사용했냐?\n",
        "- e.g. 1000개의 training set이 있고, batch size는 500이다. 그러므로 1 epoch 도는 동안 2 iteration이다.\n",
        "\n",
        "> ### Learning rate\n",
        "- 계산한 기울기에 비례하여 parameter를 얼마만큼 업데이트할지 결정하는 수치\n",
        "- 배우는 속도. 데이터와 모델에 따라서 최적값은 모두 다르다.\n",
        "- 보통 실무에서는 초기에 비교적 높은 lr로 시작하여 점차 낮추는 전략을 취함. 단 오히려 batch size를 늘리는 게 더 좋다는 연구도 있음\n",
        "- Learning rate가 너무 크면?? \n",
        "  - 발산해버리게 된다. Cost가 무진장 늘어난다.\n",
        "  - 데이터에 빨리 적응하지만 이전 데이터를 금방 까먹음\n",
        "- Learning rate가 너무 작으면? \n",
        "  - cost 값이 변함이 없는 것을 알 수 있다.\n",
        "  - 관성이 커져서 느리게 학습됨\n",
        "\n",
        "> ### Learning rate schedule\n",
        "- 매 iteration에서 learning rate을 바꿔주는 함수\n",
        "\n",
        "> ### Logit\n",
        "![](https://upload.wikimedia.org/wikipedia/commons/thumb/c/c8/Logit.svg/350px-Logit.svg.png)\n",
        "- [Logit, Sigmoid, Softmax의 관계](https://opentutorials.org/module/3653/22995)\n",
        "\n",
        "> ### Loss function  \n",
        "- Loss function은 data point에서의 오차. Single data set에서의 오차를 구하는 것\n",
        "순간순간의 loss를 판단할 땐 loss function, 학습이 완료된 후에는 cost function!\n",
        "- A loss function is a part of a cost function which is a type of an objective function!!!\n",
        "\n",
        "> ### MAE (Mean Absolute Error)\n",
        "```python\n",
        "from sklearn.metrics import mean_absolute_error\n",
        "mean_absolute_error(y_test, y_predict)\n",
        "```\n",
        "\n",
        "> ### MAPE (Mean Asolute Percentage Error)\n",
        "- Scale Dependent Error의 단점을 보완하기 위한 방법이다.\n",
        "- 하지만 MAPE 역시 실제 예측 값이 1보다 작을 경우 분모가 작아져 무한대에 가까워질 수 있다는 단점이 있다.\n",
        "``` python\n",
        "from sklearn.utils import check_arrays\n",
        "def mean_absolute_percentage_error(y_true, y_pred): \n",
        "    y_true, y_pred = check_arrays(y_true, y_pred)\n",
        "    return np.mean(np.abs((y_true - y_pred) / y_true)) * 100\n",
        "```\n",
        "\n",
        "> ### MSE(Mean Squared Error)\n",
        "```python\n",
        "from sklearn.metrics import mean_squared_error\n",
        "mean_squared_error(y_test, y_predict)\n",
        "```\n",
        "\n",
        "> ### Objective function\n",
        "- The most general term for any function that you optimize during training.\n",
        "- For example, a probability of generating training set in maximum likelihood approach is a well defined objective function, but it is not a loss function nor cost function (however you could define an equivalent cost function). For example:\n",
        "\n",
        "> ### Online learning <-> Batch learning\n",
        "- 데이터를 순차적으로 한 개씩 또는 mini-batch 단위로 주입해서 시스템을 훈련시킴\n",
        "- 새로운 데이터가 도착하는 대로 즉시 학습할 수 있다.\n",
        "\n",
        "\n",
        "> ### Overfitting\n",
        " - 모델이 Train Dataset에 너무 잘 맞아서 일반성이 떨어지게 되는 문제\n",
        " - 즉 Train Dataset을 너무 과하게 학습해 학습되지 않은 데이터가 들어오면 분류하지 못하게 되는 것\n",
        " - 위 그림의 오른쪽 그림들이 과대적합의 예시\n",
        " - 보시다시피 Train Set을 거의 다 거치거나 분류해내며 굉장히 높은 성능을 보여주고 있지만, 새로운 변수에 대응하기 어려움\n",
        " - 그림의 가운데 모델이 적합한 모델이라고 할 수 있음!\n",
        "\n",
        "> ### OvA 전략\n",
        "- label 개수만큼 분류기를 만드는 방법\n",
        "\n",
        "> ### OvO 전략\n",
        "- label combination 2만큼의 조합마다 만들 수 있는 분류기를 다 만드는 방법\n",
        "\n",
        "> ### Partial Derivative\n",
        "- 편도함수\n",
        "- 모델 parameter에 대해 비용 함수 gradient를 계산하는 것!\n",
        "- 즉, parameter가 조금 변경될 때 cost function이 얼마나 바뀐지 계산하는 함수\n",
        "\n",
        "> ### Precision (정밀도)\n",
        "- 정밀도(precision)란 positive 클래스에 속한다고 분류한 샘플 중 실제로 positive 클래스에 속하는 샘플 수의 비율\n",
        "- 높을수록 좋은 모형!!!\n",
        "$$precision=\\frac{TP}{TP+FP}$$\n",
        "``` python\n",
        "from sklearn.metrics import precision_score\n",
        "y_true = [0, 0, 0, 1, 1, 1, 1, 1, 1, 1]\n",
        "y_pred = [0, 0, 1, 0, 0, 1, 1, 1, 1, 1]\n",
        "precision_score(y_true, y_pred)\n",
        "```\n",
        "\n",
        "> ### Recall (재현율)\n",
        "- 재현율(recall)이란 실제 positive 클래스에 속한 표본 중에 positive 클래스에 속한다고 출력한 표본의 수의 비율\n",
        "- 높을수록 좋은 모형!!\n",
        "- TPR(true positive rate) 또는 민감도(sensitivity)라고도 합니다.\n",
        "$$recall=\\frac{TP}{TP+FN}$$\n",
        "``` python\n",
        "from sklearn.metrics import recall_score\n",
        "y_true = [0, 0, 0, 1, 1, 1, 1, 1, 1, 1]\n",
        "y_pred = [0, 0, 1, 0, 0, 1, 1, 1, 1, 1]\n",
        "recall_score(y_true, y_pred)\n",
        "```\n",
        "\n",
        "> ### ROC\n",
        "- ROC이란 TPR과 FPR은 어떤 기준을 연속적으로 바꾸며 측정해야 하는데 이를 한눈에 볼 수 있게 한 것\n",
        "- ![ROC_curve](https://t1.daumcdn.net/cfile/tistory/262E8E3F544837AD27)<br>\n",
        "- 위 그림처럼 ROC 곡선은 TPR과 FPR이 둘다 [0,1]의 범위이며 (0,0)에서 (1,1)을 잇는 곡선이다. \n",
        "\n",
        "> ### Sampling Noise\n",
        "- 샘플이 작을 때 우연에 의한 대표성이 없는 데이터가 생겼음을 의미\n",
        "\n",
        "> ### Sigmoid function\n",
        "- $S(x) = \\frac{1}{1 + e^{-x}}$\n",
        "\n",
        "> ### Transformer(변환기)\n",
        "- dataset을 변환하는 estimator를 transformer라고 함\n",
        "\n",
        "> ### Underfitting\n",
        " - Overfitting과 반대 개념\n",
        " - 모델이 너무 단순해서 데이터의 내재된 구조를 학습하지 못하는 것\n",
        " - 위 그림의 왼쪽 그림이 underfitting.\n",
        "\n",
        "> ### Variance\n",
        " - Variance는 예측된 값들이 서로 얼마나 멀리 떨어져 있는지에 대한 척도"
      ]
    },
    {
      "cell_type": "markdown",
      "metadata": {
        "id": "E-zlueslZ7fe",
        "colab_type": "text"
      },
      "source": [
        "# 2. Machine Learning 종류"
      ]
    },
    {
      "cell_type": "markdown",
      "metadata": {
        "id": "IknJz98B6eFD",
        "colab_type": "text"
      },
      "source": [
        "![123123](https://wordstream-files-prod.s3.amazonaws.com/s3fs-public/styles/simple_image/public/images/machine-learning1.png?SnePeroHk5B9yZaLY7peFkULrfW8Gtaf&itok=yjEJbEKD)"
      ]
    },
    {
      "cell_type": "markdown",
      "metadata": {
        "id": "0goZ-1yFjQ6l",
        "colab_type": "text"
      },
      "source": [
        "- Machine Learning에는 크게 지도학습(Supervised Learning), 비지도학습(Unsupervised Learning)으로 나뉜다.\n"
      ]
    },
    {
      "cell_type": "markdown",
      "metadata": {
        "id": "AJ7DZyJVcHzi",
        "colab_type": "text"
      },
      "source": [
        "\n",
        "> 지도학습\n",
        "- 답이 이미 있는 데이터를 기계가 학습한 뒤, 새로운 데이터가 들어왔을 때 답을 예측하는 방법\n",
        "- Regression, Classification이 이에 해당\n",
        "\n",
        "> 비지도학습\n",
        " - 답이 없는 데이터의 특징들을 기계가 스스로 학습한 뒤 이를 바탕으로 답을 내주는 방법\n",
        " - Clustering, Dimensionality Reduction, Visualization, 연관규칙학습이 이에 해당"
      ]
    },
    {
      "cell_type": "markdown",
      "metadata": {
        "id": "xKvXhJJYZ7nq",
        "colab_type": "text"
      },
      "source": [
        "# 3. Machine Learning 프로젝트 프로세스"
      ]
    },
    {
      "cell_type": "markdown",
      "metadata": {
        "id": "DSRYORPDZ7uv",
        "colab_type": "text"
      },
      "source": [
        "## 3.1 큰 그림 보기!"
      ]
    },
    {
      "cell_type": "markdown",
      "metadata": {
        "id": "-5sW7b_7ah0T",
        "colab_type": "text"
      },
      "source": [
        "### 3.1.1 목표/문제 정의\n",
        "- 우리가 해결하고자 하는 문제가 뭔지?\n",
        "- Machine Learning 모델을 통해서 해결하고자 하는 문제를 설정!\n",
        "- 예시\n",
        " - 매출 회복을 위해 고객별 STP 전략을 활용한 타겟 마케팅 전략 수립\n",
        " - 사기거래의 비중이 높아지는데 사기거래를 예측을 통한 비용 감소\n",
        " - 고객들이 주문할 상품량을 예측을 통한 물류 시스템 효율성 증진\n",
        " - 어린아이에게 안전한 동영상을 걸러내주는 모델 만들기\n",
        " - CCTV로 좀도둑을 잡는 모델 만들기"
      ]
    },
    {
      "cell_type": "markdown",
      "metadata": {
        "id": "6aGwgB_wbCrO",
        "colab_type": "text"
      },
      "source": [
        "### 3.1.2 성능 측정 지표 선택"
      ]
    },
    {
      "cell_type": "markdown",
      "metadata": {
        "id": "P2Hj6aBncgJk",
        "colab_type": "text"
      },
      "source": [
        "#### Model Evaluation (Regression)"
      ]
    },
    {
      "cell_type": "markdown",
      "metadata": {
        "id": "aJMPSJ60X7sC",
        "colab_type": "text"
      },
      "source": [
        "- Regression은 평가할 때 **실제 답과 예측값**이 얼마나 떨어져있는지로 평가!"
      ]
    },
    {
      "cell_type": "markdown",
      "metadata": {
        "id": "xO11MuyT-OV9",
        "colab_type": "text"
      },
      "source": [
        "- MAE, MSE, RMSE 모두 vector와 target vector 사이의 거리를 재는 방법\n"
      ]
    },
    {
      "cell_type": "markdown",
      "metadata": {
        "id": "sj9hOXCJX7wn",
        "colab_type": "text"
      },
      "source": [
        "##### MAE(Mean Absolute Error)"
      ]
    },
    {
      "cell_type": "markdown",
      "metadata": {
        "id": "M807yqOJUnQX",
        "colab_type": "text"
      },
      "source": [
        "$MAE = \\frac{1}{N}\\sum_{(i=1)}^N\\left\\lvert{f_i-y_i}\\right\\rvert$"
      ]
    },
    {
      "cell_type": "code",
      "metadata": {
        "id": "16Kh5aGwX71E",
        "colab_type": "code",
        "colab": {}
      },
      "source": [
        "from sklearn.metrics import mean_absolute_error\n",
        "\n",
        "mean_absolute_error(y_test, y_predict)"
      ],
      "execution_count": 0,
      "outputs": []
    },
    {
      "cell_type": "markdown",
      "metadata": {
        "id": "IazaMePGX76R",
        "colab_type": "text"
      },
      "source": [
        "##### MSE(Mean Squared Error)"
      ]
    },
    {
      "cell_type": "markdown",
      "metadata": {
        "id": "kne9a9xwUPaQ",
        "colab_type": "text"
      },
      "source": [
        "$MSE = \\frac{1}{N}\\sum_{(i=1)}^N(f_i-y_i)^2$"
      ]
    },
    {
      "cell_type": "code",
      "metadata": {
        "id": "DyzEFO5qX7-k",
        "colab_type": "code",
        "colab": {}
      },
      "source": [
        "from sklearn.metrics import mean_squared_error\n",
        "\n",
        "mean_squared_error(y_test, y_predict)"
      ],
      "execution_count": 0,
      "outputs": []
    },
    {
      "cell_type": "markdown",
      "metadata": {
        "colab_type": "text",
        "id": "ZYVbK4rH1PTT"
      },
      "source": [
        "##### RMSE(Root Mean Squared Error)"
      ]
    },
    {
      "cell_type": "markdown",
      "metadata": {
        "colab_type": "text",
        "id": "rEVdKa-yVC-O"
      },
      "source": [
        "$RMSE = \\sqrt{\\frac{1}{N}\\sum_{(i=1)}^N(f_i-y_i)^2}$\n",
        "\n",
        "- RMSE가 MAE보다 조금 더 outlier에 민감함"
      ]
    },
    {
      "cell_type": "code",
      "metadata": {
        "id": "2kOzecp71OS_",
        "colab_type": "code",
        "colab": {}
      },
      "source": [
        "from sklearn.metrics import mean_squared_error\n",
        "\n",
        "housing_predictions = lin_reg.predict(housing_prepared)\n",
        "lin_mse = mean_squared_error(housing_labels, housing_predictions)\n",
        "lin_rmse = np.sqrt(lin_mse)\n",
        "lin_rmse"
      ],
      "execution_count": 0,
      "outputs": []
    },
    {
      "cell_type": "markdown",
      "metadata": {
        "id": "uD8jqOziX8DR",
        "colab_type": "text"
      },
      "source": [
        "##### MAPE"
      ]
    },
    {
      "cell_type": "markdown",
      "metadata": {
        "id": "X0jrj1BGYH5Y",
        "colab_type": "text"
      },
      "source": [
        "$MAPE = \\frac{1}{n}\\sum_{t=1}^n |\\frac{y_i-f_i}{y_i}|$\n",
        "- Scale Dependent Error의 단점을 보완하기 위한 방법이다.\n",
        "- 하지만 MAPE 역시 실제 예측 값이 1보다 작을 경우 분모가 작아져 무한대에 가까워질 수 있다는 단점이 있다."
      ]
    },
    {
      "cell_type": "code",
      "metadata": {
        "id": "QyhyWH_GYIbY",
        "colab_type": "code",
        "colab": {}
      },
      "source": [
        "from sklearn.utils import check_arrays\n",
        "def mean_absolute_percentage_error(y_true, y_pred): \n",
        "    y_true, y_pred = check_arrays(y_true, y_pred)\n",
        "\n",
        "    #if _is_1d(y_true): \n",
        "    #    y_true, y_pred = _check_1d_array(y_true, y_pred)\n",
        "\n",
        "    return np.mean(np.abs((y_true - y_pred) / y_true)) * 100"
      ],
      "execution_count": 0,
      "outputs": []
    },
    {
      "cell_type": "markdown",
      "metadata": {
        "id": "r_S9Z4by3seb",
        "colab_type": "text"
      },
      "source": [
        "#### Model Evaluation (Classification)"
      ]
    },
    {
      "cell_type": "markdown",
      "metadata": {
        "id": "SCiaUsuzVHE2",
        "colab_type": "text"
      },
      "source": [
        "[참조 사이트](https://frhyme.github.io/machine-learning/clf_%ED%8F%89%EA%B0%80%ED%95%98%EA%B8%B0/)  \n",
        "\n",
        "<img src=\"https://t1.daumcdn.net/cfile/tistory/99DC064C5BE056CE10\" alt=\"Drawing\" style=\"width: 500px;\"/>  \n",
        "- True Positive(TP) : 실제 True인 정답을 True라고 예측 (정답)\n",
        "- False Positive(FP) : 실제 False인 정답을 True라고 예측 (오답)\n",
        "- False Negative(FN) : 실제 True인 정답을 False라고 예측 (오답)\n",
        "- True Negative(TN) : 실제 False인 정답을 False라고 예측 (정답)<br>"
      ]
    },
    {
      "cell_type": "markdown",
      "metadata": {
        "id": "lBV7Nn9ZXaMo",
        "colab_type": "text"
      },
      "source": [
        "##### 정확도(accuracy)"
      ]
    },
    {
      "cell_type": "markdown",
      "metadata": {
        "id": "N9Xu9a1LXUVb",
        "colab_type": "text"
      },
      "source": [
        "- 정확도(accuracy)란 전체 샘플 중 맞게 예측한 샘플 수의 비율\n",
        "- 높을수록 좋은 모형이고 일반적으로 학습에서 최적화 목적함수로 사용됨!!\n",
        "- 정확도(Accuracy)의 가장 큰 문제점은 **클래스의 분포가 같을 때만 이용 가능하다는 점**\n",
        "- 이러한 **단점을 보완**하는 지표가 정밀도(Precision)와 재현율(Recall), ROC 곡선과 AUC입니다.\n",
        "\n",
        "$$accuracy=\\frac{TP+TN}{TP+TN+FP+FN}$$<br>\n",
        "``` python\n",
        "from sklearn.metrics import accuracy_score\n",
        "y_true = [0, 0, 0, 1, 1, 1, 1, 1, 1, 1]\n",
        "y_pred = [0, 0, 1, 0, 0, 1, 1, 1, 1, 1]\n",
        "\n",
        "accuracy_score(y_true, y_pred)\n",
        "```\n",
        "\n",
        "\n"
      ]
    },
    {
      "cell_type": "markdown",
      "metadata": {
        "id": "XtJXnJNKXV30",
        "colab_type": "text"
      },
      "source": [
        "##### 정밀도(precision)"
      ]
    },
    {
      "cell_type": "markdown",
      "metadata": {
        "id": "0EPaMs0OXV8S",
        "colab_type": "text"
      },
      "source": [
        "- 정밀도(precision)란 positive 클래스에 속한다고 분류한 샘플 중 실제로 positive 클래스에 속하는 샘플 수의 비율\n",
        "- 높이려면 진짜진짜 아주아주 확실한 것 하나만 제대로 예측하면 완벽한 정밀도를 얻음!\n",
        "- 높을수록 좋은 모형!!!\n",
        "\n",
        "$$precision=\\frac{TP}{TP+FP}$$\n",
        "\n",
        "``` python\n",
        "from sklearn.metrics import precision_score\n",
        "y_true = [0, 0, 0, 1, 1, 1, 1, 1, 1, 1]\n",
        "y_pred = [0, 0, 1, 0, 0, 1, 1, 1, 1, 1]\n",
        "\n",
        "precision_score(y_true, y_pred)\n",
        "```"
      ]
    },
    {
      "cell_type": "markdown",
      "metadata": {
        "id": "uU_ReU8QXWEo",
        "colab_type": "text"
      },
      "source": [
        "##### 재현율(recall)"
      ]
    },
    {
      "cell_type": "markdown",
      "metadata": {
        "id": "MHaUHh1EXWIk",
        "colab_type": "text"
      },
      "source": [
        "- 재현율(recall)이란 실제 positive 클래스에 속한 표본 중에 positive 클래스에 속한다고 출력한 표본의 수의 비율\n",
        "- 높을수록 좋은 모형!!\n",
        "- TPR(true positive rate) 또는 민감도(sensitivity)라고도 합니다.\n",
        "\n",
        "$$recall=\\frac{TP}{TP+FN}$$\n",
        "\n",
        "``` python\n",
        "from sklearn.metrics import recall_score\n",
        "y_true = [0, 0, 0, 1, 1, 1, 1, 1, 1, 1]\n",
        "y_pred = [0, 0, 1, 0, 0, 1, 1, 1, 1, 1]\n",
        "\n",
        "recall_score(y_true, y_pred)\n",
        "```"
      ]
    },
    {
      "cell_type": "markdown",
      "metadata": {
        "id": "HDZoiHjyXuTu",
        "colab_type": "text"
      },
      "source": [
        "##### F Score, F1 score"
      ]
    },
    {
      "cell_type": "markdown",
      "metadata": {
        "id": "5AZKUVmhXvhM",
        "colab_type": "text"
      },
      "source": [
        "- F Score는 precision과 recall의 **가중조화평균**\n",
        "- 베타($\\beta$)는 정밀도에 주어지는 가중치\n",
        "\n",
        "$$F_β=\\frac{(1+β^2)(precision*recall)}{β^2precision+recall}$$  \n",
        " \n",
        "- 베타가 1인 경우가 F1 Score!\n",
        "$$F_1=\\frac{2⋅precision⋅recall}{precision+recall}$$\n",
        "\n",
        "``` python\n",
        "from sklearn.metrics import f1_score\n",
        "y_true = [0, 0, 0, 1, 1, 1, 1, 1, 1, 1]\n",
        "y_pred = [0, 0, 1, 0, 0, 1, 1, 1, 1, 1]\n",
        "\n",
        "f1_score(y_true, y_pred)\n",
        "```"
      ]
    },
    {
      "cell_type": "markdown",
      "metadata": {
        "id": "ygQpFuojpqRe",
        "colab_type": "text"
      },
      "source": [
        "##### Precision vs Recall vs F1 score"
      ]
    },
    {
      "cell_type": "markdown",
      "metadata": {
        "id": "4OMRA5vspq1R",
        "colab_type": "text"
      },
      "source": [
        "- 무조건 F1 score만 보는 것은 잘못 됨!\n",
        "- 맨 처음 큰 그림을 볼 때 목표/문제 정의에 따라 봐야되는 성능지표가 달라진다!\n",
        "- 유해동영상을 어린아이에게 걸러내는 분류기를 훈련시킨다면 좋은 동영상이 많이 제외되더라도(낮은 재현율) 안전한 것들만 노출시키는(높은 정밀도) 모델이 좋음!\n",
        "- 좀도둑을 잡는 분류기라면 경비원이 잘못된 호출로 고생하셔도(정확도가 30%라서) 재현율이 99%라면 모든 좀도둑을 잡은 것이기 때문에 좋은 모델! "
      ]
    },
    {
      "cell_type": "markdown",
      "metadata": {
        "id": "5IqmtPV74DkA",
        "colab_type": "text"
      },
      "source": [
        "- 분류기에서 predict( ) 메서드 대신 decision_function( ) 메서드를 쓰면 [샘플의 점수]를 얻을 수 있다.\n",
        "- 이 점수를 기반으로 threshold를 정해 예측을 만들 수 있다.\n",
        "- precision_recall_cureve( ) 함수를 이용해서 모든 threshold에 대해 recall과 precision을 계산가능\n",
        "\n",
        "```python\n",
        "from sklearn.metrics import precision_recall_curve\n",
        "\n",
        "precisions, recalls, thresholds = precision_recall_curve(y_train_5, y_scores)\n",
        "```\n",
        "그래프 그리기\n",
        "```python\n",
        "def plot_precision_recall_vs_threshold(precisions, recalls, thresholds):\n",
        "    plt.plot(thresholds, precisions[:-1], \"b--\", label=\"정밀도\", linewidth=2)\n",
        "    plt.plot(thresholds, recalls[:-1], \"g-\", label=\"재현율\", linewidth=2)\n",
        "    plt.xlabel(\"임계값\", fontsize=16)\n",
        "    plt.legend(loc=\"upper left\", fontsize=16)\n",
        "    plt.ylim([0, 1])\n",
        "\n",
        "plt.figure(figsize=(8, 4))\n",
        "plot_precision_recall_vs_threshold(precisions, recalls, thresholds)\n",
        "plt.xlim([-700000, 700000])\n",
        "save_fig(\"precision_recall_vs_threshold_plot\")\n",
        "plt.show()\n",
        "```\n",
        "![](data:image/png;base64,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)\n",
        "\n",
        "- 작업에 맞는 최선의 threshold를 선택하면 됨"
      ]
    },
    {
      "cell_type": "markdown",
      "metadata": {
        "id": "bxyf2bX3aaep",
        "colab_type": "text"
      },
      "source": [
        "##### Classification_report"
      ]
    },
    {
      "cell_type": "markdown",
      "metadata": {
        "id": "b9Afq16ZXvqL",
        "colab_type": "text"
      },
      "source": [
        "- Classification report는 sklearn 패키지의 metrics 패키지에서 precision, recall , F1 score를 구할 때 쓰는 메소드\n",
        "- Classification report는 각각의 클래스를 양성(positive) 클래스로 보았을 때의  precision, recall , F1 score를 각각 구하고 그 평균값으로 전체 모형의 성능을 평가함!!\n",
        "\n",
        "``` python\n",
        "from sklearn.metrics import classification_report\n",
        "\n",
        "y_true = [0, 0, 0, 1, 1, 1, 1, 1, 1, 1]\n",
        "y_pred = [0, 0, 1, 0, 0, 1, 1, 1, 1, 1]\n",
        "\n",
        "print(classification_report(y_true, y_pred, target_names=['class 0', 'class 1']))\n",
        "```"
      ]
    },
    {
      "cell_type": "markdown",
      "metadata": {
        "id": "vEw5OQDyXvzl",
        "colab_type": "text"
      },
      "source": [
        "##### ROC, AUC"
      ]
    },
    {
      "cell_type": "markdown",
      "metadata": {
        "id": "eCTCVNqlbOvg",
        "colab_type": "text"
      },
      "source": [
        "> ROC, AUC\n",
        "- ROC이란 TPR과 FPR은 어떤 기준을 연속적으로 바꾸며 측정해야 하는데 이를 한눈에 볼 수 있게 한 것\n",
        "- AUC란 ROC 곡선 아래 부분의 면적이다. 1에 가까울수록 성능이 좋음!\n",
        "- ![ROC_curve](https://t1.daumcdn.net/cfile/tistory/262E8E3F544837AD27)<br>\n",
        "- 위 그림처럼 ROC 곡선은 TPR과 FPR이 둘다 [0,1]의 범위이며 (0,0)에서 (1,1)을 잇는 곡선이다. \n",
        "\n",
        "- TRP(True Positive Rate) = recall\n",
        "$$TPR=\\frac{TP}{TP+FN}$$<br>\n",
        "- FPR(False Positive Rate)\n",
        "$$FPR=\\frac{FP}{FP+TN}$$<br>\n",
        "- TPR과 FPR은 반비례 관계에 있음\n",
        "  - 예시) 3인지 아닌지 판단할 때, 조금만 3처럼 보여도 모두 3이라고 분류할 경우, 이 때의 TPR은 1에 가까워지지만 반대로 FPR은 매우 낮아진다. 반대로 조금만 비슷하지 않아도 모두 3이 아니라고 분류할 경우 TPR은 급격히 낮아져 0에 가까워지겠지만, FPR은 반대로 급격히 높아져 1에 가까워진다.(3이라고 분류 자체를 안하므로, 잘못 분류하는 경우가 없는 것). 이처럼 TPR과 FPR은 어떤 기준(언제 3이라고 예측할까?)을 연속적으로 바꾸며 측정해야 하는데 이를 한눈에 볼 수 있게 한 것이 바로 **ROC 곡선**입니다.  \n"
      ]
    },
    {
      "cell_type": "code",
      "metadata": {
        "id": "_0ZGnYi9Xv9w",
        "colab_type": "code",
        "colab": {}
      },
      "source": [
        "from sklearn.metrics import roc_auc_score\n",
        "y_true = np.array([0, 0, 0, 1, 1, 1, 1, 1, 1, 1])\n",
        "y_scores = np.array([0.1, 0.4, 0.35, 0.8])\n",
        "roc_auc_score(y_true, y_scores)"
      ],
      "execution_count": 0,
      "outputs": []
    },
    {
      "cell_type": "markdown",
      "metadata": {
        "id": "POW8Za7TX6oi",
        "colab_type": "text"
      },
      "source": [
        "시각화"
      ]
    },
    {
      "cell_type": "code",
      "metadata": {
        "id": "7gtchm7nX5Rg",
        "colab_type": "code",
        "colab": {}
      },
      "source": [
        "import matplotlib.pyplot as plt \n",
        "\n",
        "from sklearn.metrics import accuracy_score, precision_score, precision_recall_curve\n",
        "from sklearn.metrics import classification_report, confusion_matrix\n",
        "from sklearn.metrics import roc_curve, roc_auc_score\n",
        "\n",
        "from sklearn.linear_model import LogisticRegression\n",
        "\n",
        "def learn_and_eval_clf(x, y_true):\n",
        "    clf = LogisticRegression(random_state=42)\n",
        "    clf.fit(x, y_true)\n",
        "\n",
        "    y_pred = clf.predict(x)\n",
        "    print(\"accuracy_score: {}\".format( accuracy_score(y_true, y_pred)))\n",
        "    print(\"precision_score: {}\".format( precision_score(y_true, y_pred)))\n",
        "    #print(\"AUC: Area Under Curve: {}\".format(roc_auc_score(y_true, y_pred_proba[:, 1])))\n",
        "    #print(\"Classificcation Report: \\n{}\".format(classification_report(y_true, y_pred)))\n",
        "    #print(\"Confusition matrix: \\n{}\".format(confusion_matrix(y_true, y_pred)))\n",
        "\n",
        "    y_score = clf.decision_function(x)\n",
        "    precision, recall, _ = precision_recall_curve(y_true, y_score)\n",
        "    fpr, tpr, _ = roc_curve(y_true, y_score)\n",
        "\n",
        "    f, axes = plt.subplots(1, 2, sharex=True, sharey=True)\n",
        "    f.set_size_inches((8, 4)) \n",
        "    axes[0].fill_between(recall, precision, step='post', alpha=0.2, color='b')\n",
        "    axes[0].set_title('Recall-Precision Curve')\n",
        "\n",
        "    axes[1].plot(fpr, tpr)\n",
        "    axes[1].plot([0, 1], [0, 1], linestyle='--')\n",
        "    axes[1].set_title('ROC curve')\n",
        "    #plt.save\n",
        "    return f\n",
        "\n",
        "## - 임의로 각각 평균이 0.0, 0.25인, 큰 차이가 나지 않는 샘플들을 뽑아서, 분류해본다. \n",
        "\n",
        "sample_size = 100\n",
        "x = np.vstack(\n",
        "    [np.random.normal(0, 1, sample_size*2).reshape(sample_size, 2), \n",
        "     np.random.normal(0.25, 1, sample_size*2).reshape(sample_size, 2), \n",
        "    ]\n",
        ")\n",
        "y_true = np.array([0 for i in range(0, sample_size)]+[1 for i in range(0, sample_size)])\n",
        "\n",
        "\n",
        "try1 = learn_and_eval_clf(x, y_true)\n",
        "\n",
        "### 임의로 각각 평균이 0.0, 2인, 큰 차이가 나지 않는 샘플들을 뽑아서, 분류해본다. \n",
        "\n",
        "sample_size = 100\n",
        "x = np.vstack(\n",
        "    [np.random.normal(0, 1, sample_size*2).reshape(sample_size, 2), \n",
        "     np.random.normal(2, 1, sample_size*2).reshape(sample_size, 2), \n",
        "    ]\n",
        ")\n",
        "y_true = np.array([0 for i in range(0, sample_size)]+[1 for i in range(0, sample_size)])\n",
        "try2 = learn_and_eval_clf(x, y_true)"
      ],
      "execution_count": 0,
      "outputs": []
    },
    {
      "cell_type": "markdown",
      "metadata": {
        "id": "aaRO5pZC42dh",
        "colab_type": "text"
      },
      "source": [
        "> 언제 ROC를 쓰고 언제 PR 곡선을 쓸까?\n",
        "- PR곡선: 일반적으로는 양성 클래스가 드물거나 FN보다 FP가 더 중요할 때\n",
        "  - e.g 5와 5가 아닌 숫자 구분 분류기\n",
        "- ROC곡선: 나머지"
      ]
    },
    {
      "cell_type": "markdown",
      "metadata": {
        "id": "LfDkPMhDhuyE",
        "colab_type": "text"
      },
      "source": [
        "##### Confusion matrix (에러 종류 분석)"
      ]
    },
    {
      "cell_type": "markdown",
      "metadata": {
        "id": "s8uwF_kWiLlY",
        "colab_type": "text"
      },
      "source": [
        "> Confusion Matrix\n",
        "- 모델의 성능을 향상시키는 방법 중 하나로 에러의 종류를 분석하는 방법!\n",
        "- 가운데 대각선이 올바르게 분류된 것이고 나머지가 잘못 분류된 것들이다!\n",
        "- 오차행렬을 분석하면 classifier의 성능 향상 방안에 대한 통찰을 얻을 수 있다.\n",
        "\n",
        "![](https://www.harrisgeospatial.com/docs/html/images/Classification/ConfusionMatrix.gif)"
      ]
    },
    {
      "cell_type": "code",
      "metadata": {
        "id": "qoKc12MChxv1",
        "colab_type": "code",
        "colab": {}
      },
      "source": [
        "# confusion matrix 가장 기본적인 형태\n",
        "from sklearn.metrics import confusion_matrix\n",
        "\n",
        "confusion_matrix(y_train_5, y_train_pred)"
      ],
      "execution_count": 0,
      "outputs": []
    },
    {
      "cell_type": "code",
      "metadata": {
        "id": "drgP9v54hx0f",
        "colab_type": "code",
        "colab": {}
      },
      "source": [
        "# confusion matrix 그려보기\n",
        "from sklearn.metrics import confusion_matrix\n",
        "y_train_pred = cross_val_predict(sgd_clf, X_train_scaled, y_train, cv=3)\n",
        "conf_mx = confusion_matrix(y_train, y_train_pred)\n",
        "conf_mx\n",
        "plt.matshow(conf_mx, cmap=plt.cm.gray)"
      ],
      "execution_count": 0,
      "outputs": []
    },
    {
      "cell_type": "code",
      "metadata": {
        "id": "mgFe4AI8hx5w",
        "colab_type": "code",
        "colab": {}
      },
      "source": [
        "# color confusion matrix 그리는 방법\n",
        "def plot_confusion_matrix(matrix):\n",
        "    \"\"\"컬러 오차 행렬을 원할 경우\"\"\"\n",
        "    fig = plt.figure(figsize=(8,8))\n",
        "    ax = fig.add_subplot(111)\n",
        "    cax = ax.matshow(matrix)\n",
        "    fig.colorbar(cax)"
      ],
      "execution_count": 0,
      "outputs": []
    },
    {
      "cell_type": "code",
      "metadata": {
        "id": "eu35zof6hx-e",
        "colab_type": "code",
        "colab": {}
      },
      "source": [
        "# 에러 비율을 비교하는 법! -> 개수로 비교하면 이미지가 많은 클래스가 상대적으로 나쁘게 보임\n",
        "row_sums = conf_mx.sum(axis=1, keepdims=True)\n",
        "norm_conf_mx = conf_mx / row_sums\n",
        "\n",
        "np.fill_diagonal(norm_conf_mx, 0)\n",
        "plt.matshow(norm_conf_mx, cmap=plt.cm.gray)\n",
        "save_fig(\"confusion_matrix_errors_plot\", tight_layout=False)\n",
        "plt.show()"
      ],
      "execution_count": 0,
      "outputs": []
    },
    {
      "cell_type": "markdown",
      "metadata": {
        "id": "-jJm24oFbDyo",
        "colab_type": "text"
      },
      "source": [
        "### 3.1.3 가정 검사\n"
      ]
    },
    {
      "cell_type": "markdown",
      "metadata": {
        "id": "Hay_yV-gwMSP",
        "colab_type": "text"
      },
      "source": [
        "- 해결하고자 하는 문제가 분류인지 회귀인지 점검"
      ]
    },
    {
      "cell_type": "markdown",
      "metadata": {
        "id": "bM_DC19NbFQ9",
        "colab_type": "text"
      },
      "source": [
        "## 3.2 데이터 가져오기"
      ]
    },
    {
      "cell_type": "markdown",
      "metadata": {
        "id": "QO4CTWK6bFWC",
        "colab_type": "text"
      },
      "source": [
        "### 3.2.1 작업환경 만들기"
      ]
    },
    {
      "cell_type": "markdown",
      "metadata": {
        "id": "NThPMlSVwYoD",
        "colab_type": "text"
      },
      "source": [
        "#### step.1 pip 설치하기\n",
        "- python이 저장된 경로\\Scripts에 pip.exe이 있다.\n",
        "- 이 pip을 가져와서 pip을 설치하자!\n",
        "```\n",
        "pip3 install --upgrade pip\n",
        "```\n",
        "으로 최신버전 pip 업데이트!  \n"
      ]
    },
    {
      "cell_type": "markdown",
      "metadata": {
        "id": "y7Tq-7j--iX0",
        "colab_type": "text"
      },
      "source": [
        "#### step.2 필요한 패키지 깔기\n",
        "- \n",
        "```\n",
        "pip3 install --upgrade jupyter matplotlib numpy pandas scipy scikit-learn\n",
        "```\n",
        "- \n",
        "```\n",
        "python3 -c \"import jupyter matplotlib numpy pandas scipy scikit-learn\"\n",
        "```\n",
        "이 명령을 실행했을 때 어떤 에러, 메세지도 출력되지 않으면 성공!"
      ]
    },
    {
      "cell_type": "markdown",
      "metadata": {
        "id": "Iywps9zRbGlz",
        "colab_type": "text"
      },
      "source": [
        "### 3.2.2 데이터 구하기"
      ]
    },
    {
      "cell_type": "markdown",
      "metadata": {
        "id": "vNqo__Q-pksC",
        "colab_type": "text"
      },
      "source": [
        "\n",
        "- External data, Internal data, Primary data, Secondary data\n",
        " - Internal data: Base Data(Application, warranty card), Channel data\n",
        " - External data: Survey, Consulting data, Alliance Data\n",
        " - Primary data: 현존하지 않고 만드는 데이터\n",
        " - Secondary data: 이미 내가 가지고 있거나 남이 가지고 있는 데이터\n",
        "- 크롤링, 공공포털 등에서 가져와도 되구~\n"
      ]
    },
    {
      "cell_type": "markdown",
      "metadata": {
        "id": "XdTwmwdvbGua",
        "colab_type": "text"
      },
      "source": [
        "### 3.2.3 테스트 세트 만들기 \n"
      ]
    },
    {
      "cell_type": "markdown",
      "metadata": {
        "id": "RHJVdAb03sh_",
        "colab_type": "text"
      },
      "source": [
        "#### Data 나누기 \n",
        "(Train data, Test data)\n"
      ]
    },
    {
      "cell_type": "markdown",
      "metadata": {
        "id": "Jtk3dxfIQpvk",
        "colab_type": "text"
      },
      "source": [
        "![datasets](https://t1.daumcdn.net/cfile/tistory/9951E5445AAE1BE025)\n",
        "\n",
        "\n",
        "\n"
      ]
    },
    {
      "cell_type": "markdown",
      "metadata": {
        "id": "_mP90bGFxSRu",
        "colab_type": "text"
      },
      "source": [
        "> train_test_split \n",
        "- test_size를 지정해주기만 하면 알아서 train과 test를 split함!\n",
        "```python\n",
        "from sklearn.model_selection import train_test_split\n",
        "```  \n",
        "numpy로 train, test 찢기\n",
        "```python\n",
        "import numpy as np\n",
        "shuffle_index = np.random.permutation(60000)\n",
        "X_train, y_train = X_train[shuffle_index], y_train[shuffle_index]\n",
        "```"
      ]
    },
    {
      "cell_type": "markdown",
      "metadata": {
        "id": "zcwqmbYAxSVW",
        "colab_type": "text"
      },
      "source": [
        "> StratifiedShuffleSplit\n",
        "- 그냥 train_test_split을 하면 label당 데이터가 고르게 섞이지 않을 수가 있다.\n",
        "- 그것을 피해 고르게 분배하기 위함~\n",
        "```python\n",
        "from sklearn.model_selection import StratifiedShuffleSplit\n",
        "split = StratifiedShuffleSplit(n_splits=1, test_size=0.2, random_state=42)\n",
        "for train_index, test_index in split.split(housing, housing[\"income_cat\"]):\n",
        "    strat_train_set = housing.loc[train_index]\n",
        "    strat_test_set = housing.loc[test_index]\n",
        "```\n"
      ]
    },
    {
      "cell_type": "markdown",
      "metadata": {
        "id": "kkchB18abGyc",
        "colab_type": "text"
      },
      "source": [
        "## 3.3 데이터로부터 insight를 얻기 위한 탐색과 시각화 (EDA)\n"
      ]
    },
    {
      "cell_type": "markdown",
      "metadata": {
        "id": "o6AJm-kdbGqV",
        "colab_type": "text"
      },
      "source": [
        "\n",
        "- 이 과정이 EDA (Exploratory Data Analysis)\n",
        "- 데이터 분포는 어떤지, 상관관계는 어떤지, Outlier가 있는지, 데이터가 골고루 분포했는지 결측치가 많은지 등등\n"
      ]
    },
    {
      "cell_type": "markdown",
      "metadata": {
        "id": "uHVla3OfbG2m",
        "colab_type": "text"
      },
      "source": [
        "## 3.4 머신러닝 알고리즘을 위한 데이터 준비 (FE)\n"
      ]
    },
    {
      "cell_type": "markdown",
      "metadata": {
        "id": "f9i6TESYbG6e",
        "colab_type": "text"
      },
      "source": [
        "\n",
        "### 3.4.1 데이터 정제 \n"
      ]
    },
    {
      "cell_type": "markdown",
      "metadata": {
        "id": "k8xrnSacyOfN",
        "colab_type": "text"
      },
      "source": [
        "- 이 과정이 FE (Feature Engineering)\n",
        "- FE는 굉장히 높은 전문성과 경험이 필요한 분야\n",
        "- FE에 대해서 자세하게 배우고 싶으면 2020-1 디자인팀 구글드라이브에 '[16기] 디자인팀 회칙 및 커리큘럼.docx'에 있는 Udemy FE강의를 참조할 것!"
      ]
    },
    {
      "cell_type": "markdown",
      "metadata": {
        "id": "jiAATuLcbG-b",
        "colab_type": "text"
      },
      "source": [
        "### 3.4.2 텍스트와 범주형 특성 다루기\n"
      ]
    },
    {
      "cell_type": "markdown",
      "metadata": {
        "id": "5QA1AESgyyOu",
        "colab_type": "text"
      },
      "source": [
        "> 범주형 특성을 다루는 방법은 크게 2가지\n",
        "\n",
        "1. Label encoding\n",
        "\n",
        "2. one-hot encoding"
      ]
    },
    {
      "cell_type": "markdown",
      "metadata": {
        "id": "r20GVBEr0An0",
        "colab_type": "text"
      },
      "source": [
        "#### 1. Label encoding\n",
        "- 카테고리 변수를 다른 정숫값으로 매핑해주는 방법\n",
        "- ['17학번','15학번', '17학번', '16학번', '19학번']을  \n",
        "  [0, 1, 0, 2, 3]으로 매핑하는 것\n",
        "- Pandas의 factorize( ) 메서드를 사용하면 됨.\n",
        "\n",
        "```python\n",
        "housing_cat_encoded, housing_categories = housing_cat.factorize()\n",
        "housing_cat_encoded[:10]\n",
        "```"
      ]
    },
    {
      "cell_type": "markdown",
      "metadata": {
        "id": "mA3DV0a10Ary",
        "colab_type": "text"
      },
      "source": [
        "#### 2. One-hot encoding\n",
        "- Label encoding의 단점? 컴퓨터가 못 알아먹음. 컴퓨터 입장에서는 Continuous Variable로 인식\n",
        "- 컴퓨터가 알아먹을 수 있게 하는 것이 One-hot encoding!\n",
        "- 컴퓨터가 이해할 수 있게 0, 1로만 표현하는 것  \n",
        "<br>\n",
        "\n",
        "![](https://img1.daumcdn.net/thumb/R720x0.q80/?scode=mtistory2&fname=http%3A%2F%2Fcfile27.uf.tistory.com%2Fimage%2F999790455B7D3327107DBD)\n",
        "- Pandas의 get_dummies( ) 메서드를 사용하면 됨.\n",
        "\n",
        "``` python\n",
        "# get_dummies() 예시\n",
        "df_dum = pd.get_dummies(df['pclass'])\n",
        "\n",
        "df_train = pd.get_dummies(df_train, prefix = ['Cabin'], columns=['Cabin'])\n",
        "\n",
        "df_dum = pd.get_dummies(df)\n",
        "\n",
        "temp = pd.get_dummies(temp, columns = ['Age_cut'])\n",
        "```"
      ]
    },
    {
      "cell_type": "markdown",
      "metadata": {
        "id": "61q0ZkG2bHJx",
        "colab_type": "text"
      },
      "source": [
        "### 3.4.3 특성 Scaling & Sampling & Pipeline\n"
      ]
    },
    {
      "cell_type": "markdown",
      "metadata": {
        "id": "b8NsWiCbgnMs",
        "colab_type": "text"
      },
      "source": [
        "####  Scaling"
      ]
    },
    {
      "cell_type": "markdown",
      "metadata": {
        "id": "JX0iUQnYdMA-",
        "colab_type": "text"
      },
      "source": [
        "> Scaling이란.....\n",
        " - scaling을 통해서 다차원의 값들을 분석하기 쉽게 만들어주고 자료의 overflow, underflow를 방지할 수 있다! \n",
        " - 또한 최적화 과정에서의 안정성 및 수렴속도를 향상!\n",
        " - k-means, Gradient Descent 등 거리 기반의 모델에서는 scaling이 매우 중요하다\n",
        " - Regression(Normal Equation), Tree based model은 Scaling이 중요하지 않다.\n",
        "<br>\n",
        "<br>\n",
        "\n",
        "> 종류\n",
        " - StandardScaler: 기본 스케일, 평균과 표준편차 사용\n",
        " - MinMaxScaler: 최대/최소값이 각각 1, 0이 되도록 하는 scaling\n",
        " - MaxAbsScaler: 최대절대값과 0이 각각 1, 0이 되도록 하는 scaling\n",
        " - RobustScaler: median과 IQR(interquartile range) 사용, outlier의 영향을 최소화한다."
      ]
    },
    {
      "cell_type": "code",
      "metadata": {
        "id": "Z79326mUgpi4",
        "colab_type": "code",
        "colab": {}
      },
      "source": [
        "# StandardScaler\n",
        "## 예제1\n",
        "from sklearn.preprocessing import StandardScaler\n",
        "standardScaler = StandardScaler()\n",
        "print(standardScaler.fit(train_data))\n",
        "train_data_standardScaled = standardScaler.transform(train_data)"
      ],
      "execution_count": 0,
      "outputs": []
    },
    {
      "cell_type": "code",
      "metadata": {
        "id": "ZVb8LBmggpuL",
        "colab_type": "code",
        "colab": {}
      },
      "source": [
        "# MinMaxscaler\n",
        "## 예제1\n",
        "from sklearn.preprocessing import MinMaxScaler\n",
        "minMaxScaler = MinMaxScaler()\n",
        "print(minMaxScaler.fit(train_data))\n",
        "train_data_minMaxScaled = minMaxScaler.transform(train_data)\n",
        "\n",
        "## 예시2\n",
        "minmax = MinMaxScaler()\n",
        "train_X_mm = minmax.fit_transform(train_X_nu)\n",
        "train_X_mm_df = pd.DataFrame(train_X_mm, columns=train_X_nu.columns, index=train_X_nu.index)\n",
        "train_X_fin = pd.concat([train_X_mm_df, train_X_ca], axis=1)\n",
        "train_X_fin.index = range(len(train_X))"
      ],
      "execution_count": 0,
      "outputs": []
    },
    {
      "cell_type": "code",
      "metadata": {
        "id": "eGffrhotgpxq",
        "colab_type": "code",
        "colab": {}
      },
      "source": [
        "# MaxAbsScaler\n",
        "from sklearn.preprocessing import MaxAbsScaler\n",
        "maxAbsScaler = MaxAbsScaler()\n",
        "print(maxAbsScaler.fit(train_data))\n",
        "train_data_maxAbsScaled = maxAbsScaler.transform(train_data)"
      ],
      "execution_count": 0,
      "outputs": []
    },
    {
      "cell_type": "code",
      "metadata": {
        "id": "K2bOyymRgp1m",
        "colab_type": "code",
        "colab": {}
      },
      "source": [
        "# RobustScaler 예시1\n",
        "from sklearn.preprocessing import RobustScaler\n",
        "robustScaler = RobustScaler()\n",
        "print(robustScaler.fit(train_data))\n",
        "train_data_robustScaled = robustScaler.transform(train_data)\n",
        "\n",
        "# RobustScaler 예시2_pandas에 적용하기\n",
        "from sklearn.preprocessing import RobustScaler\n",
        "scaler = RobustScaler()\n",
        "temp[['psfMag_u', 'psfMag_g']] = scaler.fit_transform(temp[['psfMag_u', 'psfMag_g']])\n",
        "temp"
      ],
      "execution_count": 0,
      "outputs": []
    },
    {
      "cell_type": "markdown",
      "metadata": {
        "id": "5ynxIB0azGk2",
        "colab_type": "text"
      },
      "source": [
        "#### Sampling"
      ]
    },
    {
      "cell_type": "markdown",
      "metadata": {
        "id": "dBQYOfXHc_NH",
        "colab_type": "text"
      },
      "source": [
        "> Oversampling\n",
        " - RandomOverSampler: 소수 클래스의 데이터를 반복해서 넣는 방법\n",
        "``` python\n",
        "X_samp, y_samp = RandomOverSampler(random_state=0).fit_sample(X_imb, y_imb)\n",
        "```\n",
        " - ADASYN: 소수 클래스 데이터와 그 데이터에서 가장 가까운 k개의 소수 클래스 데이터 중 무작위로 선택된 데이터 사이의 직선상에 가상의 소수 클래스 데이터를 만드는 방법\n",
        "```python\n",
        "X_samp, y_samp = ADASYN(random_state=0).fit_sample(X_imb, y_imb)\n",
        "```\n",
        " - SMOTE: ADASYN 방법처럼 데이터를 생성하지만 생성된 데이터를 무조건 소수 클래스라고 하지 않고 분류 모형에 따라 분류한다.\n",
        "```python\n",
        "X_samp, y_samp = SMOTE(random_state=4).fit_sample(X_imb, y_imb)\n",
        "```\n",
        " - SMOTENC: SMOTE와 유사하나 categorical 변수도 sampling 시킬 수 있는 방법\n",
        "```python\n",
        "X_res, y_res = SMOTENC(random_state=42, categorical_features=[18, 19]).fit_resample(X, y)\n",
        "```\n",
        "<br>\n",
        "<br>\n",
        "\n",
        "\n",
        "\n",
        "> Undersampling\n",
        " - **RandomUnderSampler**: 무작위로 데이터를 없애는 단순 샘플링\n",
        "```python\n",
        "  X_samp, y_samp = RandomUnderSampler(random_state=0).fit_sample(X_imb, y_imb)\n",
        "```\n",
        " - **TomekLinks**: 토멕링크(클래스가 다른 두 데이터 중 아주 가까이 붙어있는 데이터)를 찾아서 그 중 다수 클래스에 속한 데이터를 제외하는 방법\n",
        "```python\n",
        "X_samp, y_samp = TomekLinks(random_state=0).fit_sample(X_imb, y_imb)\n",
        "```\n",
        " - **CondensedNearestNeighbour**: 1-NN 모형으로 분류되지 않는 데이터만 남기는 방법\n",
        "```python\n",
        "X_samp, y_samp = CondensedNearestNeighbour(random_state=0).fit_sample(X_imb, y_imb)\n",
        "```\n",
        " - **OneSidedSelection**: 토맥링크 중 다수 클래스를 제외하고 나머지 데이터 중에서도 서로 붙어있는 다수 클래스 데이터는 1-NN 방법으로 제외한다.\n",
        "```python\n",
        "X_samp, y_samp = OneSidedSelection(random_state=0).fit_sample(X_imb, y_imb)\n",
        "```\n",
        " - **EditedNearestNeighbours**: 다수 클래스 데이터 중 가장 가까운 k(n_neighbors)개의 데이터가 모두(kind_sel=\"all\") 또는 다수(kind_sel=\"mode\") 다수 클래스가 아니면 삭제하는 방법이다. 소수 클래스 주변의 다수 클래스 데이터는 사라진다.\n",
        "```python\n",
        "X_samp, y_samp = EditedNearestNeighbours(kind_sel=\"all\", n_neighbors=5, random_state=0).fit_sample(X_imb, y_imb)\n",
        "```\n",
        " - **NeighbourhoodCleaningRule**: CNN(Condensed Nearest Neighbour) 방법과 ENN(Edited Nearest Neighbours) 방법을 섞은 것이다.\n",
        "```python\n",
        "X_samp, y_samp = NeighbourhoodCleaningRule(kind_sel=\"all\", n_neighbors=5, random_state=0).fit_sample(X_imb, y_imb)\n",
        "```\n",
        "<br>\n",
        "<br>\n",
        "\n",
        "> 복합샘플링\n",
        " - SMOTEENN: SMOTE + ENN\n",
        "```python\n",
        "X_samp, y_samp = SMOTEENN(random_state=0).fit_sample(X_imb, y_imb)\n",
        "```\n",
        " - SMOTETomek: SMOTE + Tomek\n",
        "```python\n",
        "X_samp, y_samp = SMOTETomek(random_state=4).fit_sample(X_imb, y_imb)\n",
        "```\n",
        "\n"
      ]
    },
    {
      "cell_type": "code",
      "metadata": {
        "id": "GRlia5MwgC0M",
        "colab_type": "code",
        "colab": {}
      },
      "source": [
        "# SMOTE 코드\n",
        "from imblearn.over_sampling import SMOTE\n",
        "from sklearn.model_selection import train_test_split\n",
        "\n",
        "X_train, X_test, y_train, y_test = train_test_split(X, y, test_size=0.3, random_state=0)\n",
        "\n",
        "print(\"Number transactions X_train dataset: \", X_train.shape)\n",
        "print(\"Number transactions y_train dataset: \", y_train.shape)\n",
        "print(\"Number transactions X_test dataset: \", X_test.shape)\n",
        "print(\"Number transactions y_test dataset: \", y_test.shape)\n",
        "\n",
        "print(\"Before OverSampling, counts of label '1': {}\".format(sum(y_train==1)))\n",
        "print(\"Before OverSampling, counts of label '0': {} \\n\".format(sum(y_train==0)))\n",
        "\n",
        "sm = SMOTE(random_state=2)\n",
        "X_train_res, y_train_res = sm.fit_sample(X_train, y_train.ravel())\n",
        "\n",
        "print('After OverSampling, the shape of train_X: {}'.format(X_train_res.shape))\n",
        "print('After OverSampling, the shape of train_y: {} \\n'.format(y_train_res.shape))\n",
        "\n",
        "print(\"After OverSampling, counts of label '1': {}\".format(sum(y_train_res==1)))\n",
        "print(\"After OverSampling, counts of label '0': {}\".format(sum(y_train_res==0)))"
      ],
      "execution_count": 0,
      "outputs": []
    },
    {
      "cell_type": "code",
      "metadata": {
        "id": "0QcOhPSGgPBQ",
        "colab_type": "code",
        "colab": {}
      },
      "source": [
        "from imblearn.under_sampling"
      ],
      "execution_count": 0,
      "outputs": []
    },
    {
      "cell_type": "code",
      "metadata": {
        "id": "t6p0sjrwgQYT",
        "colab_type": "code",
        "colab": {}
      },
      "source": [
        "# sampling 코드 모음\n",
        "X_samp, y_samp = RandomOverSampler(random_state=0).fit_sample(X_imb, y_imb)\n",
        "X_samp, y_samp = ADASYN(random_state=0).fit_sample(X_imb, y_imb)\n",
        "X_samp, y_samp = SMOTE(random_state=4).fit_sample(X_imb, y_imb)\n",
        "X_samp, y_samp = SMOTENC(random_state=42, categorical_features=[18, 19]).fit_resample(X_imb, y_imb)\n",
        "X_samp, y_samp = RandomUnderSampler(random_state=0).fit_sample(X_imb, y_imb)\n",
        "X_samp, y_samp = TomekLinks(random_state=0).fit_sample(X_imb, y_imb)\n",
        "X_samp, y_samp = CondensedNearestNeighbour(random_state=0).fit_sample(X_imb, y_imb)\n",
        "X_samp, y_samp = OneSidedSelection(random_state=0).fit_sample(X_imb, y_imb)\n",
        "X_samp, y_samp = EditedNearestNeighbours(kind_sel=\"all\", n_neighbors=5, random_state=0).fit_sample(X_imb, y_imb)\n",
        "X_samp, y_samp = NeighbourhoodCleaningRule(kind_sel=\"all\", n_neighbors=5, random_state=0).fit_sample(X_imb, y_imb)\n",
        "X_samp, y_samp = SMOTEENN(random_state=0).fit_sample(X_imb, y_imb)\n",
        "X_samp, y_samp = SMOTETomek(random_state=4).fit_sample(X_imb, y_imb)"
      ],
      "execution_count": 0,
      "outputs": []
    },
    {
      "cell_type": "markdown",
      "metadata": {
        "id": "6p7t4qscbHNl",
        "colab_type": "text"
      },
      "source": [
        "### 3.4.4 변환 파이프라인\n"
      ]
    },
    {
      "cell_type": "markdown",
      "metadata": {
        "id": "i5tMtzvTKJhu",
        "colab_type": "text"
      },
      "source": [
        "#### Pipeline, FeatureUnion 이용하기\n"
      ]
    },
    {
      "cell_type": "markdown",
      "metadata": {
        "id": "Aka-FTuMc4jg",
        "colab_type": "text"
      },
      "source": [
        "pipline이란?\n",
        "- 연속된 변환을 순서대로 처리할수 있도록 도와주는 클래스임!\n",
        "- 연속된 단계를 나타내는 이름/estimator 쌍의 목록을 input으로 받음\n",
        "- 마지막 단계에는 estimator, transformer 모두 사용가능하며 그 외에는 모두 estimator  \n",
        "<br>  \n",
        "\n",
        "ColumnTransformer란?\n",
        "- 두 pipeline을 하나의 pipeline으로 합치기"
      ]
    },
    {
      "cell_type": "code",
      "metadata": {
        "id": "cz0-JnL1KLI3",
        "colab_type": "code",
        "colab": {}
      },
      "source": [
        "# pipeline 예시\n",
        "from sklearn.pipeline import Pipeline\n",
        "from sklearn.preprocessing import StandardScaler\n",
        "\n",
        "num_pipeline = Pipeline([\n",
        "        ('imputer', SimpleImputer(strategy=\"median\")),\n",
        "        ('attribs_adder', CombinedAttributesAdder()),\n",
        "        ('std_scaler', StandardScaler()),\n",
        "    ])\n",
        "\n",
        "housing_num_tr = num_pipeline.fit_transform(housing_num)"
      ],
      "execution_count": 0,
      "outputs": []
    },
    {
      "cell_type": "code",
      "metadata": {
        "id": "f_feivrBKLOt",
        "colab_type": "code",
        "colab": {}
      },
      "source": [
        "# ColumnTransformer 예시\n",
        "full_pipeline = ColumnTransformer([\n",
        "        (\"num_pipeline\", num_pipeline, num_attribs),\n",
        "        (\"cat_encoder\", OneHotEncoder(categories='auto'), cat_attribs),\n",
        "    ])"
      ],
      "execution_count": 0,
      "outputs": []
    },
    {
      "cell_type": "markdown",
      "metadata": {
        "id": "lL1W4FCFbND6",
        "colab_type": "text"
      },
      "source": [
        "## 3.5 모델 선택과 훈련"
      ]
    },
    {
      "cell_type": "markdown",
      "metadata": {
        "id": "iWRKCTwXbNHk",
        "colab_type": "text"
      },
      "source": [
        "### 3.5.1 훈련 세트에서 훈련하고 평가하기\n"
      ]
    },
    {
      "cell_type": "markdown",
      "metadata": {
        "id": "4Ii82vIIh1El",
        "colab_type": "text"
      },
      "source": [
        "- Train data로 훈련을 한 다음에 Test data로 평가를 하면 된다!\n",
        "- 평가 지표는 위에서 나온 지표 중에서 프로젝트에 제일 적합한 지표를 사용하면 된다."
      ]
    },
    {
      "cell_type": "markdown",
      "metadata": {
        "id": "5U0ZrMfpbNLo",
        "colab_type": "text"
      },
      "source": [
        "### 3.5.2 교차 검증을 사용한 평가\n"
      ]
    },
    {
      "cell_type": "markdown",
      "metadata": {
        "colab_type": "text",
        "id": "McV1bTkWxfr2"
      },
      "source": [
        "![datasets](https://t1.daumcdn.net/cfile/tistory/9951E5445AAE1BE025)\n",
        "\n",
        "\n",
        "\n"
      ]
    },
    {
      "cell_type": "markdown",
      "metadata": {
        "id": "ziYQkn1ExSNj",
        "colab_type": "text"
      },
      "source": [
        "> Validation Set이 왜 필요할까?\n",
        " - Validation Set을 통해 우리는 모델의 성능을 대략적으로 파악할 수 있음\n",
        " - Train Set의 일부를 떼어낸 후, 남은 부분을 학습한 뒤, 모델을 통해 떼어낸 부분에 대한 예측 진행!\n",
        " - 우리는 떼어낸 부분의 실제 값을 알고 있기 때문에 예측치와 비교하여 성능을 평가하는 여러 측정 공식을 통해 모델의 성능을 측정함\n",
        " -  그러니 Validation Set은 모의고사 문제인 셈이쥬.  \n",
        " <br>\n",
        " "
      ]
    },
    {
      "cell_type": "markdown",
      "metadata": {
        "id": "Tt43DS3HdqRx",
        "colab_type": "text"
      },
      "source": [
        "#### Cross Validation\n",
        "- Cross validation은 validation set을 뗄 만큼 data가 크지 않을 때 사용\n",
        "- Training Set을 여러 Subset으로 나누고 각 모델을 이 Subset의 조합으로 훈련시키고 나머지 부분으로 검증하는 방법이다.  \n",
        "![validation](https://t1.daumcdn.net/cfile/tistory/990DD2465B72F1491E)\n"
      ]
    },
    {
      "cell_type": "code",
      "metadata": {
        "id": "R_Hu6BgUi8aY",
        "colab_type": "code",
        "colab": {}
      },
      "source": [
        "# Cross validation code\n",
        "from sklearn.model_selection import KFold\n",
        "from sklearn import metrics\n",
        "X = np.arange(16).reshape((8,-1)) ## 8개의 row, 2개의 column\n",
        "y = np.arange(8).reshape((-1,1))\n",
        "kf = KFold(n_splits=4) # 8개의 row를 각각 2줄짜리 4개의 set으로 분리합니다\n",
        "for train_index, test_index in kf.split(X):\n",
        "    print(\"TRAIN:\", train_index, \"TEST:\", test_index)\n",
        "    X_train, X_test = X[train_index], X[test_index] \n",
        "    y_train, y_test = y[train_index], y[test_index]\n",
        "\n",
        "# 각각의 iteration을 print합니다. 첫 줄의 의미는 2~7번째 row를 학습하고 0,1번째 row를 validation set으로 하여 검증한다는 것입니다."
      ],
      "execution_count": 0,
      "outputs": []
    },
    {
      "cell_type": "code",
      "metadata": {
        "id": "U8v7_Cxxi80h",
        "colab_type": "code",
        "colab": {}
      },
      "source": [
        "# Kfold 예시1\n",
        "from sklearn.linear_model import Lasso, Ridge\n",
        "from sklearn.metrics import mean_squared_error\n",
        "from sklearn.model_selection import KFold\n",
        "kf = KFold(n_splits=10)\n",
        "lasso_regressor = Lasso()\n",
        "ridge_regressor = Ridge()\n",
        "\n",
        "lasso_mse = []\n",
        "ridge_mse = []\n",
        "\n",
        "for train_index, test_index in kf.split(X):\n",
        "    lasso_regressor.fit(X[train_index], y[train_index])\n",
        "    ridge_regressor.fit(X[train_index], y[train_index])\n",
        "    \n",
        "    lasso_mse.append(mean_squared_error(y[test_index], lasso_regressor.predict(X[test_index])))\n",
        "    ridge_mse.append(mean_squared_error(y[test_index], ridge_regressor.predict(X[test_index])))\n",
        "    \n",
        "sum(lasso_mse) / 10, sum(ridge_mse) / 10\n",
        "\n",
        "################################################################################################################\n",
        "\n",
        "# Kfold 예시2\n",
        "from sklearn.model_selection import cross_val_score\n",
        "import numpy as np \n",
        "\n",
        "lasso_regressor = Lasso(warm_start=False)\n",
        "ridge_regressor = Ridge()\n",
        "\n",
        "lasso_scores = cross_val_score(lasso_regressor, X, y, cv=10, \n",
        "                               scoring='neg_mean_squared_error')\n",
        "ridge_scores= cross_val_score(ridge_regressor, X, y, cv=10, \n",
        "                              scoring='neg_mean_squared_error')\n",
        "# cv: 몇 번 돌릴 것이냐. cross-validation, scoring: 점수를 측정하는 기준\n",
        "np.mean(lasso_scores), np.mean(ridge_scores)"
      ],
      "execution_count": 0,
      "outputs": []
    },
    {
      "cell_type": "markdown",
      "metadata": {
        "id": "47ggGGOObNPQ",
        "colab_type": "text"
      },
      "source": [
        "## 3.6 모델 세부 튜닝\n"
      ]
    },
    {
      "cell_type": "markdown",
      "metadata": {
        "id": "tUN69aHajLbb",
        "colab_type": "text"
      },
      "source": [
        "- 모델이 복잡해지면 복잡해질수록 수많은 hyperparameter들이 있다.\n",
        "- Sklearn의 LinearRegression( )은 4개의 hyperparameter가 있는 반면 Xgboost는 40여개의 hyperparameter들이 있다.\n",
        "- 해결하려는 문제에 맞는 모델을 만들기 위해서는 Hyperparameter를 잘 조정해주면 된다!\n",
        "- Hyperparameter를 찾는 방법은 크게 2가지가 있다.\n",
        "  - GridSearchCV\n",
        "  - RandomizedSearchCV"
      ]
    },
    {
      "cell_type": "markdown",
      "metadata": {
        "id": "dXxqASE8bNTj",
        "colab_type": "text"
      },
      "source": [
        "### 3.6.1 그리드 탐색 (GridSearchCV)\n"
      ]
    },
    {
      "cell_type": "markdown",
      "metadata": {
        "id": "JJRoOTPTMGTp",
        "colab_type": "text"
      },
      "source": [
        "#### GridSearchCV란?\n",
        "- 모델의 hyperparameter를 찾는 것을 도와주는 친구\n",
        "<br>\n",
        "\n",
        "### 메소드 모음\n",
        "- **GridSearchCV ( estimator = , param_grid = , scoring = , cv = , n_jobs = , verbose = )** : grid search 하기\n",
        "- **.best_scores_**: 최적의 score 점수를 보여줌\n",
        "- **.best_estimator_**: 최적의 parameter로 설정된 모델을 생성\n",
        "- **.best_params_**: 최적의 parameter를 반환\n",
        "- **.cv_results_**: 전체적인 결과값들을 보여줌"
      ]
    },
    {
      "cell_type": "code",
      "metadata": {
        "id": "CCyyEIHbfzEM",
        "colab_type": "code",
        "colab": {}
      },
      "source": [
        "## Catboost best parameter 찾는 과정\n",
        "# 우선 부차적인 parameter 찾아주고\n",
        "cb = CatBoostClassifier(\n",
        " learning_rate =0.1,\n",
        " iterations=100 #n-estimator대신 iteration을 사용,\n",
        ")\n",
        "\n",
        "cb_params_1 = {\n",
        "    'depth' : [3,5,7],\n",
        "    'random_strength' : [1,3],\n",
        "    'bagging_temperature' : [0,0.5,1],\n",
        "    'l2_leaf_reg' : [1,3,5,7],\n",
        "}\n",
        "cb_grid_1 = GridSearchCV(cb, param_grid=cb_params_1, scoring=my_scorer, cv=5, verbose=1)\n",
        "cb_grid_1.fit(train[features], train['Survived'])\n",
        "\n",
        "print(\"Best Score : {}\".format(cb_grid_1.best_score_))\n",
        "print(\"Best Params : {}\".format(cb_grid_1.best_params_))\n",
        "best_cb_model = cb_grid_1.best_estimator_\n",
        "\n",
        "# 최적의 core parameter 찾기\n",
        "cb_params_2 = {\n",
        "    'learning_rate' : [0.03, 0.07, 0.1],\n",
        "    'iterations' : [n for n in range(80,130,20)]\n",
        "}\n",
        "cb_grid_2 = GridSearchCV(best_cb_model, param_grid=cb_params_2, scoring=my_scorer, cv=5, verbose=1)\n",
        "cb_grid_2.fit(train[features], train['Survived'])\n",
        "\n",
        "print(\"Best Score : {}\".format(cb_grid_2.best_score_))\n",
        "print(\"Best Params : {}\".format(cb_grid_2.best_params_))\n",
        "best_cb_model = cb_grid_2.best_estimator_"
      ],
      "execution_count": 0,
      "outputs": []
    },
    {
      "cell_type": "code",
      "metadata": {
        "id": "e8b9wqkNqICy",
        "colab_type": "code",
        "colab": {}
      },
      "source": [
        "### Xgboost best parameter 찾기\n",
        "## 처음에는 부차적인 parameter를 tuning하기\n",
        "# GridSearchCV에 들어갈 param_grid, estimator, scoring 만들어주기\n",
        "from sklearn.metrics import make_scorer\n",
        "from sklearn.model_selection import GridSearchCV\n",
        "from sklearn.metrics import auc, f1_score, accuracy_score\n",
        "my_scorer = make_scorer(accuracy_score, greater_is_better = True)\n",
        "\n",
        "xgb1 = XGBClassifier(\n",
        " learning_rate =0.1,\n",
        " n_estimators=100,\n",
        ")\n",
        "\n",
        "xgb_params_1 = {\n",
        "    'max_depth' : [3,5,7],\n",
        "    'min_child_weight' : [0.5, 1],\n",
        "    'gamma' : [0, 0.1],\n",
        "    'subsample' : [0.5, 0.7, 0.9],\n",
        "    'colsample_bytree' : [0.5, 0.7, 0.9],\n",
        "} #3x2x2x3x3=108가지 경우의 수\n",
        "\n",
        "# GridSearchCV 돌리기\n",
        "xgb_grid_1 = GridSearchCV(estimator=xgb1, param_grid=xgb_params_1, \n",
        "                          scoring=my_scorer, cv=5, n_jobs=1, verbose=1)\n",
        "xgb_grid_1.fit(train[features], train['Survived']) # Titanic data\n",
        "\n",
        "# 제일 좋은 모델 뽑기\n",
        "print(\"Best Score : {}\".format(xgb_grid_1.best_score_))\n",
        "print(\"Best Params : {}\".format(xgb_grid_1.best_params_))\n",
        "\n",
        "# 표로 한 번 뽑아보고\n",
        "results = pd.DataFrame(xgb_grid_1.cv_results_)\n",
        "results = results.sort_values(by='mean_test_score', ascending=False)\n",
        "results.head()\n",
        "\n",
        "# 다시 Core parameter 설정!\n",
        "best_xgb_model = xgb_grid_1.best_estimator_\n",
        "xgb_params_2 = {\n",
        "    'learning_rate' : [0.01, 0.05, 0.07, 0.1, 0.2],\n",
        "    'n_estimators' : [n for n in range(100,200,20)]\n",
        "}\n",
        "xgb_grid_2 = GridSearchCV(best_xgb_model, param_grid=xgb_params_2, scoring=my_scorer, cv=5, verbose=1)\n",
        "xgb_grid_2.fit(train[features], train['Survived'])\n",
        "\n",
        "# 제일 좋은 모델 뽑기\n",
        "print(\"Best Score : {}\".format(xgb_grid_2.best_score_))\n",
        "print(\"Best Params : {}\".format(xgb_grid_2.best_params_))\n",
        "best_xgb_model = xgb_grid_2.best_estimator_"
      ],
      "execution_count": 0,
      "outputs": []
    },
    {
      "cell_type": "markdown",
      "metadata": {
        "id": "8ghfBIcdbNXn",
        "colab_type": "text"
      },
      "source": [
        "### 3.6.2 랜덤 탐색 (RandomizedSearchCV)\n"
      ]
    },
    {
      "cell_type": "markdown",
      "metadata": {
        "id": "7TJi_zFTMI4e",
        "colab_type": "text"
      },
      "source": [
        "#### RandomizedSearchCV\n",
        "- GridSearchCV는 비교적 적은 수의 조합을 탐구할 때 괜찮음\n",
        "- 단 hyperparameter 탐색 공간이 커질 때는 RandomizedSearchCV가 더 유용\n",
        "- 장점\n",
        "  - 탐색 1000회 -> 서로 다른 hyperparameter 조합 1000개 값 탐색\n",
        "  - 단순히 반복 횟수 조절하는 것으로도 컴퓨팅 자원 제어가능"
      ]
    },
    {
      "cell_type": "code",
      "metadata": {
        "id": "3VlxymqGNI7h",
        "colab_type": "code",
        "colab": {}
      },
      "source": [
        "### RandomizedSearchCV 예시 1\n",
        "# specify param\\eters and distributions to sample from\n",
        "param_dist = {'average': [True, False],\n",
        "              'l1_ratio': stats.uniform(0, 1),\n",
        "              'alpha': loguniform(1e-4, 1e0)}\n",
        "\n",
        "# run randomized search\n",
        "n_iter_search = 20\n",
        "random_search = RandomizedSearchCV(clf, param_distributions=param_dist,\n",
        "                                   n_iter=n_iter_search)\n",
        "random_search.fit(X, y)\n",
        "print(\"RandomizedSearchCV took %.2f seconds for %d candidates\"\n",
        "      \" parameter settings.\" % ((time() - start), n_iter_search))\n",
        "report(random_search.cv_results_)"
      ],
      "execution_count": 0,
      "outputs": []
    },
    {
      "cell_type": "code",
      "metadata": {
        "id": "lByjK-JyN64r",
        "colab_type": "code",
        "colab": {}
      },
      "source": [
        "### RandomizedSearchCV 예시 2\n",
        "clf = BayesianRidge()\n",
        "clf = SVR(kernel='rbf', C=1e3, gamma=0.1)\n",
        "#clf = RandomForestRegressor()\n",
        "if classifier:\n",
        "  clf = classifier\n",
        "  to_tune = False\n",
        "if to_tune:\n",
        "  # Grid search: find optimal classifier parameters.\n",
        "  param_grid = {'alpha_1': sp_rand(), 'alpha_2': sp_rand()}\n",
        "  param_grid = {'C': sp_rand(), 'gamma': sp_rand()}\n",
        "  rsearch = RandomizedSearchCV(estimator=clf, \n",
        "  param_distributions=param_grid, n_iter=5000)\n",
        "  rsearch.fit(X_train, y_train)\n",
        "  # Use tuned classifier.\n",
        "  clf = rsearch.best_estimator_"
      ],
      "execution_count": 0,
      "outputs": []
    },
    {
      "cell_type": "code",
      "metadata": {
        "id": "d0HXV3TqOJff",
        "colab_type": "code",
        "colab": {}
      },
      "source": [
        "### RandomizedSearchCV 예시 3\n",
        "n_estimators = [100, 200, 300, 400, 500]\n",
        "max_features = ['auto', 'sqrt']\n",
        "max_depth = [5, 10, 20, 30, 40, 50]\n",
        "min_samples_split = [2, 5, 10]\n",
        "min_samples_leaf = [1, 2, 4]\n",
        "bootstrap = [True, False]\n",
        "\n",
        "random_grid = {'n_estimators': n_estimators,\n",
        "               'max_features': max_features,\n",
        "               'max_depth': max_depth,\n",
        "               'min_samples_split': min_samples_split,\n",
        "               'min_samples_leaf': min_samples_leaf,\n",
        "               'bootstrap': bootstrap}\n",
        "\n",
        " model_tuned = RandomizedSearchCV(estimator = baseModel, \n",
        "                                  param_distributions = random_grid, \n",
        "                                  n_iter = 2, cv = 2, verbose=0, \n",
        "                                  random_state=42 , n_jobs = -1)"
      ],
      "execution_count": 0,
      "outputs": []
    },
    {
      "cell_type": "markdown",
      "metadata": {
        "id": "fVJukgb2bNbQ",
        "colab_type": "text"
      },
      "source": [
        "### 3.6.3 앙상블 방법\n"
      ]
    },
    {
      "cell_type": "markdown",
      "metadata": {
        "id": "JcVpF-pzms4N",
        "colab_type": "text"
      },
      "source": [
        "- \"약한 모델을 여러 개 합치면 강한 모델 1개보다 성능이 좋다!\"\n",
        "- 이게 앙상블의 아이디어!\n",
        "- 5월에 배우게 될 거예요!"
      ]
    },
    {
      "cell_type": "markdown",
      "metadata": {
        "id": "dYSuxKNWbNfE",
        "colab_type": "text"
      },
      "source": [
        "### 3.6.4 최상의 모델과 오차 분석\n"
      ]
    },
    {
      "cell_type": "markdown",
      "metadata": {
        "id": "gPSEN3UOnDVq",
        "colab_type": "text"
      },
      "source": [
        "- 가장 적합한 모델을 분석하면 문제에 대한 좋은 insight들을 많이 얻기도 한다.\n",
        "- 예) Feature_importances_를 사용하면 어떤 feature가 모델에 영향을 많이 미치는지 알려준다! 즉 해결하고자 하는 문제에서 어떤 특성들이 중요한지 상대적 중요도를 알려준다."
      ]
    },
    {
      "cell_type": "code",
      "metadata": {
        "id": "oCdGnJyUnalB",
        "colab_type": "code",
        "colab": {}
      },
      "source": [
        "## Random Forest Feature importance\n",
        "from sklearn.datasets import load_iris\n",
        "iris = load_iris()\n",
        "rnd_clf = RandomForestClassifier(n_estimators=500, n_jobs=-1, random_state=42)\n",
        "rnd_clf.fit(iris[\"data\"], iris[\"target\"])\n",
        "for name, score in zip(iris[\"feature_names\"], rnd_clf.feature_importances_):\n",
        "    print(name, score)"
      ],
      "execution_count": 0,
      "outputs": []
    },
    {
      "cell_type": "code",
      "metadata": {
        "id": "49rmjjecnaUn",
        "colab_type": "code",
        "colab": {}
      },
      "source": [
        "## Xgboost Plot importance\n",
        "# 코드1\n",
        "from xgboost import plot_importance\n",
        "\n",
        "model = xgb.XGBClassifier()\n",
        "model.fit(X, y)\n",
        "sorted_idx = np.argsort(model.feature_importances_)[::-1]\n",
        "for index in sorted_idx:\n",
        "    print([X.columns[index], model.feature_importances_[index]])\n",
        "\n",
        "# 코드2\n",
        "from xgboost import XGBClassifier, plot_importance\n",
        "model = XGBClassifier()\n",
        "model.fit(train, label)\n",
        "\n",
        "sorted_idx = np.argsort(model.feature_importances_)[::-1]\n",
        "\n",
        "for index in sorted_idx:\n",
        "    print([train.columns[index], model.feature_importances_[index]]) \n",
        "\n",
        "    plot_importance(model, max_num_features = 15)\n",
        "pyplot.show()"
      ],
      "execution_count": 0,
      "outputs": []
    },
    {
      "cell_type": "markdown",
      "metadata": {
        "id": "zEzSnmlTbNjN",
        "colab_type": "text"
      },
      "source": [
        "### 3.6.5 테스트 세트로 시스템 평가하기\n"
      ]
    },
    {
      "cell_type": "markdown",
      "metadata": {
        "id": "kiUxy8_jn5Nw",
        "colab_type": "text"
      },
      "source": [
        "- Train set과 Validation set으로 훈련시킨 모델을 이제 Test set에 적용해서 score를 보면 된다!"
      ]
    },
    {
      "cell_type": "markdown",
      "metadata": {
        "id": "aBQ_pbhmbTXV",
        "colab_type": "text"
      },
      "source": [
        "## 3.7 론칭, 모니터링, 그리고 시스템 유지 보수"
      ]
    },
    {
      "cell_type": "markdown",
      "metadata": {
        "id": "mAL0mzN7oE4V",
        "colab_type": "text"
      },
      "source": [
        "- 이제 해당 모델을 적용시켜서 문제 해결에 적극 활용하면 된다!"
      ]
    },
    {
      "cell_type": "markdown",
      "metadata": {
        "id": "XjF5p6yLdZrA",
        "colab_type": "text"
      },
      "source": [
        "# 4. 머신러닝 관련 메소드 모음"
      ]
    },
    {
      "cell_type": "markdown",
      "metadata": {
        "id": "ZjjuHB0rwULR",
        "colab_type": "text"
      },
      "source": [
        "### 4.1 학습한 모델 저장하는 법"
      ]
    },
    {
      "cell_type": "markdown",
      "metadata": {
        "id": "f_W-Sdk6w8vO",
        "colab_type": "text"
      },
      "source": [
        "joblib 활용"
      ]
    },
    {
      "cell_type": "code",
      "metadata": {
        "id": "qlqZIRBCwWwI",
        "colab_type": "code",
        "colab": {}
      },
      "source": [
        "## 저장할 때\n",
        "from sklearn.externals import joblib \n",
        "# 객체를 pickled binary file 형태로 저장한다 \n",
        "file_name = 'object_01.pkl' \n",
        "joblib.dump(obj, file_name) \n",
        "\n",
        "## 읽을 때\n",
        "from sklearn.externals import joblib \n",
        "# pickled binary file 형태로 저장된 객체를 로딩한다 \n",
        "file_name = 'object_01.pkl' \n",
        "obj = joblib.load(file_name) "
      ],
      "execution_count": 0,
      "outputs": []
    },
    {
      "cell_type": "markdown",
      "metadata": {
        "id": "s_CciL_ew_OG",
        "colab_type": "text"
      },
      "source": [
        "pickle 활용"
      ]
    },
    {
      "cell_type": "code",
      "metadata": {
        "id": "gvMC4llKwA2_",
        "colab_type": "code",
        "colab": {}
      },
      "source": [
        "# Save Model Using Pickle\n",
        "import pandas\n",
        "from sklearn import model_selection\n",
        "from sklearn.linear_model import LogisticRegression\n",
        "import pickle\n",
        "url = \"https://raw.githubusercontent.com/jbrownlee/Datasets/master/pima-indians-diabetes.data.csv\"\n",
        "names = ['preg', 'plas', 'pres', 'skin', 'test', 'mass', 'pedi', 'age', 'class']\n",
        "\n",
        "dataframe = pandas.read_csv(url, names=names)\n",
        "array = dataframe.values\n",
        "X = array[:,0:8]\n",
        "Y = array[:,8]\n",
        "test_size = 0.33\n",
        "seed = 7\n",
        "X_train, X_test, Y_train, Y_test = model_selection.train_test_split(X, Y, test_size=test_size, random_state=seed)\n",
        "\n",
        "# Fit the model on training set\n",
        "model = LogisticRegression()\n",
        "model.fit(X_train, Y_train)\n",
        "\n",
        "# save the model to disk\n",
        "filename = 'finalized_model.sav'\n",
        "pickle.dump(model, open(filename, 'wb'))\n",
        " \n",
        "# some time later...\n",
        " \n",
        "# load the model from disk\n",
        "loaded_model = pickle.load(open(filename, 'rb'))\n",
        "result = loaded_model.score(X_test, Y_test)\n",
        "print(result)"
      ],
      "execution_count": 0,
      "outputs": []
    },
    {
      "cell_type": "markdown",
      "metadata": {
        "id": "AAtoD4AGhIAA",
        "colab_type": "text"
      },
      "source": [
        "# 5. 과제"
      ]
    },
    {
      "cell_type": "markdown",
      "metadata": {
        "id": "e8yeaJ3phI8p",
        "colab_type": "text"
      },
      "source": [
        "1) 머신러닝을 어떻게 정의할 수 있나요?\n",
        "\n",
        "2) Label된 훈련 세트란?\n",
        "\n",
        "3) 가장 널리 사용되는 Supervised learning 두 가지는?\n",
        "\n",
        "4) 보편적인 Unsupervised learning 네 가지는?\n",
        "\n",
        "5) 고객을 여러 그룹으로 분할하려면 어떤 알고리즘을 사용해야 하나?\n",
        "\n",
        "6) 스팸 감지 문제는 Supervised Learning인가 Unsupervised Learning인가?\n",
        "\n",
        "7) Parameter vs Hyperparater??\n",
        "\n",
        "8) 모델이 train data에서는 성능이 좋지만 새로운 샘플에서 일반화 성능이 나쁘다면 어떤 문제가 있는 것인가? 가능한 해결책 세 가지는?\n",
        "\n",
        "9) Test set은 무엇이고 왜 사용하는가?\n",
        "\n",
        "10) Validation set의 목적은?\n",
        "\n",
        "11) Test set을 사용해서 Hyperparameter를 tuning하면 무슨 문제가 발생하는가?\n",
        "\n",
        "12) Cross validation이 무엇인가?\n",
        "\n",
        "13) 버섯을 먹기 전에 [독버섯인지 아닌지 알려주는 모델]을 만드려고 할 때 적합한 성능 측정 지표는?\n",
        "\n",
        "14) train, test를 나눌 때 class의 비율에 맞게 데이터를 고르게 나누는 방법은?\n",
        "\n",
        "15) Linear Regression(Normal equation), Tree model, Gradient descent 중에서 Scaling이 필요한 모델은?"
      ]
    },
    {
      "cell_type": "markdown",
      "metadata": {
        "id": "EVDAat1-qStb",
        "colab_type": "text"
      },
      "source": [
        "`4월 24일 23:59까지 구글 드라이브 [과제 제출] 폴더에 제출해주세요~`"
      ]
    }
  ]
}